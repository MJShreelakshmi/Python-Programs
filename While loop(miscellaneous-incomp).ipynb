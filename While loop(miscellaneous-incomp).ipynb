{
 "cells": [
  {
   "cell_type": "markdown",
   "id": "3575d9f8",
   "metadata": {},
   "source": [
    "Date: 12-07-24\n",
    "### From for loop with range                                                                                                                    "
   ]
  },
  {
   "cell_type": "code",
   "execution_count": 3,
   "id": "8d382af5",
   "metadata": {},
   "outputs": [
    {
     "name": "stdout",
     "output_type": "stream",
     "text": [
      "0 1 4 9 16 25 36 49 64 81 "
     ]
    }
   ],
   "source": [
    "# WAPT print squares of first 10 positive numbers.\n",
    "i = 0\n",
    "while i<10:\n",
    "    print(i**2, end = ' ')\n",
    "    i+=1"
   ]
  },
  {
   "cell_type": "code",
   "execution_count": 17,
   "id": "dccc11a6",
   "metadata": {},
   "outputs": [
    {
     "name": "stdout",
     "output_type": "stream",
     "text": [
      "0 2 4 6 8 10 12 14 16 18 "
     ]
    }
   ],
   "source": [
    "# WAPT print first 10 even numbers.\n",
    "i = 0\n",
    "while i < 19:\n",
    "    print(i, end = ' ')\n",
    "    i+=2\n",
    "while i<19:\n",
    "    if i%2==0:\n",
    "        print(i, end = ' ')\n",
    "    i+=1"
   ]
  },
  {
   "cell_type": "code",
   "execution_count": 18,
   "id": "6f25317a",
   "metadata": {},
   "outputs": [
    {
     "name": "stdout",
     "output_type": "stream",
     "text": [
      "5\n",
      "15\n",
      "6 8 10 12 14 "
     ]
    }
   ],
   "source": [
    "# WAPT print even numbers in a given range.\n",
    "l = int(input())\n",
    "u = int(input())\n",
    "while l<=u:\n",
    "    if l%2==0:\n",
    "        print(l, end = ' ')\n",
    "    l+=1"
   ]
  },
  {
   "cell_type": "code",
   "execution_count": 22,
   "id": "7be5071f",
   "metadata": {},
   "outputs": [
    {
     "name": "stdout",
     "output_type": "stream",
     "text": [
      "1\n",
      "4\n",
      "10\n",
      "10\n"
     ]
    }
   ],
   "source": [
    "# WAPT find sum of numbers in a given range.\n",
    "l = int(input())\n",
    "u = int(input())\n",
    "sum_ = 0\n",
    "while l<=u:\n",
    "    sum_+=l\n",
    "    l+=1\n",
    "print(sum_)\n",
    "\n",
    "while l<u+1:\n",
    "    sum_+=l\n",
    "    l+=1\n",
    "print(sum_)"
   ]
  },
  {
   "cell_type": "code",
   "execution_count": 24,
   "id": "217142ff",
   "metadata": {},
   "outputs": [
    {
     "name": "stdout",
     "output_type": "stream",
     "text": [
      "4\n",
      "10\n"
     ]
    }
   ],
   "source": [
    "# WAPT find the sum of first n numbers.\n",
    "u = int(input())\n",
    "sum_ = 0\n",
    "i = 0\n",
    "while i<=u:\n",
    "    sum_+=i\n",
    "    i+=1\n",
    "print(sum_)"
   ]
  },
  {
   "cell_type": "code",
   "execution_count": 5,
   "id": "3e46e360",
   "metadata": {},
   "outputs": [
    {
     "name": "stdout",
     "output_type": "stream",
     "text": [
      "2 4 6 8 10 12 14 16 18 20 22 24 "
     ]
    }
   ],
   "source": [
    "# WAPT print first 25 numbers\n",
    "i = 1\n",
    "while i<26:\n",
    "    if i%2==0:\n",
    "        print(i, end = ' ' )\n",
    "    i+=1"
   ]
  },
  {
   "cell_type": "code",
   "execution_count": 3,
   "id": "8fc0d7f9",
   "metadata": {},
   "outputs": [
    {
     "name": "stdout",
     "output_type": "stream",
     "text": [
      "28\n",
      "28 is a perfect number\n"
     ]
    }
   ],
   "source": [
    "# WAPT check if a given number is perfect number or not\n",
    "n = int(input())\n",
    "i = 1\n",
    "sum_ = 0\n",
    "while i<=n//2:\n",
    "    if n%i ==0:\n",
    "        sum_+=i\n",
    "    i+=1\n",
    "if n==sum_:\n",
    "    print(f'{n} is a perfect number')\n",
    "else:\n",
    "    print(f'{n} is not a perfect number')"
   ]
  },
  {
   "cell_type": "code",
   "execution_count": 9,
   "id": "9ca1e612",
   "metadata": {},
   "outputs": [
    {
     "name": "stdout",
     "output_type": "stream",
     "text": [
      "shreelakshmi\n",
      "24\n"
     ]
    }
   ],
   "source": [
    "# WAPT sum of index positions of all the vowels present in a given string by using while loop.\n",
    "s = input() \n",
    "ip = 0\n",
    "sum_ = 0\n",
    "while ip<len(s) :  #i in range(0, len(s))\n",
    "    if s[ip] in 'aeiouAEIOU':\n",
    "        sum_ += ip\n",
    "    ip+=1\n",
    "print(sum_)"
   ]
  },
  {
   "cell_type": "code",
   "execution_count": 19,
   "id": "30b3d210",
   "metadata": {},
   "outputs": [
    {
     "name": "stdout",
     "output_type": "stream",
     "text": [
      "5\n",
      "120\n"
     ]
    }
   ],
   "source": [
    "# WAPT find the factorial of a given number.\n",
    "n = int(input())\n",
    "i = 1\n",
    "fact = 1\n",
    "while i<=n:\n",
    "    fact *=i\n",
    "    i+=1 \n",
    "print(fact)"
   ]
  },
  {
   "cell_type": "markdown",
   "id": "d7901fa7",
   "metadata": {},
   "source": [
    "### From for loop with range and collection"
   ]
  },
  {
   "cell_type": "code",
   "execution_count": 22,
   "id": "3f3baef0",
   "metadata": {},
   "outputs": [
    {
     "name": "stdout",
     "output_type": "stream",
     "text": [
      "shreelakshmi\n",
      "1 * 9 * "
     ]
    }
   ],
   "source": [
    "# WAPT print all the index positions where h is present in a given string.\n",
    "s = input()\n",
    "i = 0\n",
    "while i<len(s):\n",
    "    if s[i] =='h':\n",
    "        print(i, end = ' * ')\n",
    "    i+=1"
   ]
  },
  {
   "cell_type": "code",
   "execution_count": 25,
   "id": "57f67876",
   "metadata": {},
   "outputs": [
    {
     "name": "stdout",
     "output_type": "stream",
     "text": [
      "shreelakshmi\n",
      "s * r * e * a * s * m * "
     ]
    }
   ],
   "source": [
    "# WAPT print the elements which are in even index positions of given string.\n",
    "s = input()\n",
    "i = 0\n",
    "while i<len(s):\n",
    "    if i%2==0:\n",
    "        print(s[i], end = ' * ')\n",
    "    i+=1"
   ]
  },
  {
   "cell_type": "code",
   "execution_count": 26,
   "id": "20078bcc",
   "metadata": {},
   "outputs": [
    {
     "name": "stdout",
     "output_type": "stream",
     "text": [
      "shreelakshmi\n",
      "3, 4, 6, 11, "
     ]
    }
   ],
   "source": [
    "# WAPT print the index positions of vowels.\n",
    "s = input()\n",
    "i = 0\n",
    "while i<len(s):\n",
    "    if s[i] in 'aeiouAEIOU':\n",
    "        print(i, end = ', ')\n",
    "    i+=1"
   ]
  },
  {
   "cell_type": "code",
   "execution_count": 42,
   "id": "2206b871",
   "metadata": {},
   "outputs": [
    {
     "name": "stdout",
     "output_type": "stream",
     "text": [
      "shreelakshmi\n",
      "shr34l6kshm11\n"
     ]
    }
   ],
   "source": [
    "# WAPT replace all the vowels with their index positions.\n",
    "s = input() #shree\n",
    "ip = 0\n",
    "new = ''\n",
    "while ip <len(s):\n",
    "    if s[ip] in 'aeiouAEIOU':\n",
    "        new += str(ip)\n",
    "    else:\n",
    "        new += s[ip]\n",
    "    ip+=1\n",
    "print(new)"
   ]
  },
  {
   "cell_type": "code",
   "execution_count": 56,
   "id": "5a0a3b45",
   "metadata": {},
   "outputs": [
    {
     "name": "stdout",
     "output_type": "stream",
     "text": [
      "s1hre9ela5k\n",
      "1 * 9 * 5 * "
     ]
    }
   ],
   "source": [
    "# WAPT odd numbers present in odd index positions of a given string. \n",
    "s = input()\n",
    "ip = 0\n",
    "# while ip<len(s):\n",
    "#     if s[ip].isdigit():\n",
    "#         if int(s[ip])%2==1 and ip%2==1:\n",
    "#             print(s[ip], end = ' * ')\n",
    "#     ip+=1\n",
    "while ip<len(s):\n",
    "    if s[ip] in '13579' and str(ip) in '13579': # or ip%2==1\n",
    "        print(s[ip], end = ' * ')\n",
    "    ip+=1"
   ]
  },
  {
   "cell_type": "code",
   "execution_count": 58,
   "id": "03990834",
   "metadata": {},
   "outputs": [
    {
     "name": "stdout",
     "output_type": "stream",
     "text": [
      "sh7ree3la9\n",
      "7 * 3 * "
     ]
    }
   ],
   "source": [
    "# WAPT odd digits present in even index positions in the given string.\n",
    "s = input()\n",
    "ip = 0\n",
    "# while ip<len(s):\n",
    "#     if s[ip].isdigit():\n",
    "#         if int(s[ip])%2==1:\n",
    "#             print(s[ip], end = ' * ')\n",
    "#     ip+=2\n",
    "\n",
    "while ip<len(s):\n",
    "    if s[ip] in '13579':\n",
    "        print(s[ip],end = ' * ')\n",
    "    ip+=2"
   ]
  },
  {
   "cell_type": "code",
   "execution_count": 59,
   "id": "6ff83029",
   "metadata": {},
   "outputs": [
    {
     "name": "stdout",
     "output_type": "stream",
     "text": [
      "sh3r0l6kshmi2\n",
      "4 * 6 * 12 * "
     ]
    }
   ],
   "source": [
    "# WAPT print the index positions of even digits present in even index positions.\n",
    "s=input()\n",
    "ip = 0\n",
    "while ip<len(s):\n",
    "    if s[ip] in '24680':\n",
    "        print(ip, end=' * ')\n",
    "    ip+=2"
   ]
  },
  {
   "cell_type": "code",
   "execution_count": 60,
   "id": "115f30e0",
   "metadata": {},
   "outputs": [
    {
     "name": "stdout",
     "output_type": "stream",
     "text": [
      "sh30r6lkshm2i\n",
      "8\n"
     ]
    }
   ],
   "source": [
    "# Find the sum of even digits present in odd index positions in the given string.\n",
    "s=input()\n",
    "sum_= 0\n",
    "ip=0\n",
    "while ip<len(s):\n",
    "    if ip%2==1:\n",
    "        if s[ip] in '02468':\n",
    "            sum_+=int(s[ip])\n",
    "    ip+=1\n",
    "print(sum_)"
   ]
  },
  {
   "cell_type": "code",
   "execution_count": 64,
   "id": "76691435",
   "metadata": {},
   "outputs": [
    {
     "name": "stdout",
     "output_type": "stream",
     "text": [
      "shree\n",
      "eerhs\n",
      "eerhs\n"
     ]
    }
   ],
   "source": [
    "# WAPT reverse a given string without using slicing.\n",
    "s=input()\n",
    "ip=len(s)-1\n",
    "rs = ''\n",
    "while ip>=0:\n",
    "    rs+=s[ip]\n",
    "    ip-=1\n",
    "print(rs)\n",
    "# or\n",
    "ip = 0\n",
    "rs=''\n",
    "while ip<len(s):\n",
    "    rs=s[ip]+rs\n",
    "    ip+=1\n",
    "print(rs)"
   ]
  },
  {
   "cell_type": "markdown",
   "id": "2e114c03",
   "metadata": {},
   "source": [
    "### Miscellaneous"
   ]
  },
  {
   "cell_type": "code",
   "execution_count": 1,
   "id": "673d95f3",
   "metadata": {},
   "outputs": [],
   "source": [
    "l = [11,22,44,66,77]\n",
    "# op: ['odd', 'even','even', 'even', 'odd']"
   ]
  },
  {
   "cell_type": "code",
   "execution_count": null,
   "id": "60d0a411",
   "metadata": {},
   "outputs": [],
   "source": []
  }
 ],
 "metadata": {
  "kernelspec": {
   "display_name": "Python 3 (ipykernel)",
   "language": "python",
   "name": "python3"
  },
  "language_info": {
   "codemirror_mode": {
    "name": "ipython",
    "version": 3
   },
   "file_extension": ".py",
   "mimetype": "text/x-python",
   "name": "python",
   "nbconvert_exporter": "python",
   "pygments_lexer": "ipython3",
   "version": "3.8.3"
  }
 },
 "nbformat": 4,
 "nbformat_minor": 5
}
