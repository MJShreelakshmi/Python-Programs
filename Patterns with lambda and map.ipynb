{
 "cells": [
  {
   "cell_type": "code",
   "execution_count": 3,
   "id": "2d211977",
   "metadata": {},
   "outputs": [
    {
     "ename": "NameError",
     "evalue": "name 'num' is not defined",
     "output_type": "error",
     "traceback": [
      "\u001b[1;31m---------------------------------------------------------------------------\u001b[0m",
      "\u001b[1;31mNameError\u001b[0m                                 Traceback (most recent call last)",
      "Cell \u001b[1;32mIn[3], line 1\u001b[0m\n\u001b[1;32m----> 1\u001b[0m \u001b[38;5;28;01mdef\u001b[39;00m \u001b[38;5;21mbinary_conv\u001b[39m(val:\u001b[43mnum\u001b[49m, pos\u001b[38;5;241m=\u001b[39m\u001b[38;5;241m1\u001b[39m, res\u001b[38;5;241m=\u001b[39m\u001b[38;5;241m0\u001b[39m):\n\u001b[0;32m      2\u001b[0m     \u001b[38;5;28;01mwhile\u001b[39;00m num\u001b[38;5;241m!=\u001b[39m\u001b[38;5;241m0\u001b[39m:\n\u001b[0;32m      3\u001b[0m         rem \u001b[38;5;241m=\u001b[39m num\u001b[38;5;241m%\u001b[39m\u001b[38;5;241m2\u001b[39m\n",
      "\u001b[1;31mNameError\u001b[0m: name 'num' is not defined"
     ]
    }
   ],
   "source": [
    "def binary_conv(val:num, pos=1, res=0):\n",
    "    while num!=0:\n",
    "        rem = num%2\n",
    "        res = res+rem*pos\n",
    "        pos = pos*10\n",
    "        num//=2\n",
    "    return res\n",
    "print(list(map(binary_conv, range(10,21))))"
   ]
  },
  {
   "cell_type": "code",
   "execution_count": 10,
   "id": "c04522da",
   "metadata": {},
   "outputs": [
    {
     "name": "stdout",
     "output_type": "stream",
     "text": [
      "****\n",
      " ***\n",
      "  **\n",
      "   *\n"
     ]
    }
   ],
   "source": [
    "print('\\n'.join(list(map(lambda sp, st: ' '*sp+'*'*st, range(0,4), range(4,0,-1)))) )"
   ]
  },
  {
   "cell_type": "code",
   "execution_count": 4,
   "id": "ceb43134",
   "metadata": {},
   "outputs": [
    {
     "name": "stdout",
     "output_type": "stream",
     "text": [
      "   *\n",
      "  **\n",
      " ***\n",
      "****\n"
     ]
    }
   ],
   "source": [
    "print('\\n'.join(list(map(lambda sp, st: ' '*sp+'*'*st, range(3,-1,-1), range(1,5)))) )"
   ]
  },
  {
   "cell_type": "code",
   "execution_count": 18,
   "id": "442dc2bc",
   "metadata": {},
   "outputs": [
    {
     "name": "stdout",
     "output_type": "stream",
     "text": [
      "   *\n",
      "  ***\n",
      " *****\n",
      "*******\n"
     ]
    }
   ],
   "source": [
    "print('\\n'.join(list(map(lambda sp, st: ' '*sp+'*'*st, range(3,-1,-1), range(1,4*2,2)))) )"
   ]
  },
  {
   "cell_type": "code",
   "execution_count": 24,
   "id": "229aa796",
   "metadata": {},
   "outputs": [
    {
     "name": "stdout",
     "output_type": "stream",
     "text": [
      "1\n",
      "22\n",
      "333\n",
      "4444\n"
     ]
    }
   ],
   "source": [
    "print('\\n'.join(list(map(lambda num: num*(str(num)), range(1,5)))) )#*' '"
   ]
  },
  {
   "cell_type": "code",
   "execution_count": null,
   "id": "c3ad4e9b",
   "metadata": {},
   "outputs": [],
   "source": []
  }
 ],
 "metadata": {
  "kernelspec": {
   "display_name": "Python 3 (ipykernel)",
   "language": "python",
   "name": "python3"
  },
  "language_info": {
   "codemirror_mode": {
    "name": "ipython",
    "version": 3
   },
   "file_extension": ".py",
   "mimetype": "text/x-python",
   "name": "python",
   "nbconvert_exporter": "python",
   "pygments_lexer": "ipython3",
   "version": "3.8.3"
  }
 },
 "nbformat": 4,
 "nbformat_minor": 5
}
