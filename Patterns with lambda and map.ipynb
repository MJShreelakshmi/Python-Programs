{
 "cells": [
  {
   "cell_type": "code",
   "execution_count": 10,
   "id": "c04522da",
   "metadata": {},
   "outputs": [
    {
     "name": "stdout",
     "output_type": "stream",
     "text": [
      "****\n",
      " ***\n",
      "  **\n",
      "   *\n"
     ]
    }
   ],
   "source": [
    "print('\\n'.join(list(map(lambda sp, st: ' '*sp+'*'*st, range(0,4), range(4,0,-1)))) )"
   ]
  },
  {
   "cell_type": "code",
   "execution_count": 4,
   "id": "ceb43134",
   "metadata": {},
   "outputs": [
    {
     "name": "stdout",
     "output_type": "stream",
     "text": [
      "   *\n",
      "  **\n",
      " ***\n",
      "****\n"
     ]
    }
   ],
   "source": [
    "print('\\n'.join(list(map(lambda sp, st: ' '*sp+'*'*st, range(3,-1,-1), range(1,5)))) )"
   ]
  },
  {
   "cell_type": "code",
   "execution_count": 18,
   "id": "442dc2bc",
   "metadata": {},
   "outputs": [
    {
     "name": "stdout",
     "output_type": "stream",
     "text": [
      "   *\n",
      "  ***\n",
      " *****\n",
      "*******\n"
     ]
    }
   ],
   "source": [
    "print('\\n'.join(list(map(lambda sp, st: ' '*sp+'*'*st, range(3,-1,-1), range(1,4*2,2)))) )"
   ]
  },
  {
   "cell_type": "code",
   "execution_count": 24,
   "id": "229aa796",
   "metadata": {},
   "outputs": [
    {
     "name": "stdout",
     "output_type": "stream",
     "text": [
      "1\n",
      "22\n",
      "333\n",
      "4444\n"
     ]
    }
   ],
   "source": [
    "print('\\n'.join(list(map(lambda num: num*(str(num)), range(1,5)))) )#*' '"
   ]
  },
  {
   "cell_type": "code",
   "execution_count": null,
   "id": "c3ad4e9b",
   "metadata": {},
   "outputs": [],
   "source": []
  }
 ],
 "metadata": {
  "kernelspec": {
   "display_name": "Python 3 (ipykernel)",
   "language": "python",
   "name": "python3"
  },
  "language_info": {
   "codemirror_mode": {
    "name": "ipython",
    "version": 3
   },
   "file_extension": ".py",
   "mimetype": "text/x-python",
   "name": "python",
   "nbconvert_exporter": "python",
   "pygments_lexer": "ipython3",
   "version": "3.8.3"
  }
 },
 "nbformat": 4,
 "nbformat_minor": 5
}
