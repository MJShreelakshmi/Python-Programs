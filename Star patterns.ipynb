{
 "cells": [
  {
   "cell_type": "code",
   "execution_count": 1,
   "id": "729f9d9c",
   "metadata": {},
   "outputs": [
    {
     "name": "stdout",
     "output_type": "stream",
     "text": [
      "5\n",
      "* * * * * \n",
      "* * * * * \n",
      "* * * * * \n",
      "* * * * * \n",
      "* * * * * \n",
      "=========\n",
      " *   *   *   *   *  \n",
      " *   *   *   *   *  \n",
      " *   *   *   *   *  \n",
      " *   *   *   *   *  \n",
      " *   *   *   *   *  \n"
     ]
    }
   ],
   "source": [
    "n = int(input())\n",
    "#pattern by using single loop\n",
    "for i in range(1,n+1):\n",
    "    print('* '*n)\n",
    "print('='*9)\n",
    "\n",
    "#pattern by using nested loops\n",
    "for row in range(1,n+1):\n",
    "    for col in range(1,n+1):\n",
    "        print(' * ',end=' ')\n",
    "    print()"
   ]
  },
  {
   "cell_type": "code",
   "execution_count": 22,
   "id": "47632032",
   "metadata": {},
   "outputs": [
    {
     "name": "stdout",
     "output_type": "stream",
     "text": [
      "5\n",
      "* \n",
      "* * \n",
      "* * * \n",
      "* * * * \n",
      "* * * * * \n",
      "7\n",
      "* \n",
      "* * \n",
      "* * * \n",
      "* * * * \n",
      "* * * * * \n",
      "* * * * * * \n",
      "* * * * * * * \n"
     ]
    }
   ],
   "source": [
    "n = int(input())\n",
    "#pattern by using single loop\n",
    "for i in range(1,n+1):\n",
    "    print('* '*i)\n",
    "\n",
    "# for row in range(1,n+1):\n",
    "#     for col in range(1,row+1):\n",
    "#         print('*',end=' ')\n",
    "#     print()\n",
    "\n",
    "# other way\n",
    "# for row in range(1,n+1):\n",
    "#     for col in range(1,n+1):\n",
    "#         if row>=col:\n",
    "#             print('*',end=' ')\n",
    "#     print()\n",
    "\n",
    "#other way\n",
    "n = int(input())\n",
    "stars = 1\n",
    "for row in range(1,n+1):\n",
    "    for st in range(1,stars+1):\n",
    "        print('*',end=' ')\n",
    "    print()\n",
    "    stars+=1"
   ]
  },
  {
   "cell_type": "code",
   "execution_count": 17,
   "id": "866bdeea",
   "metadata": {},
   "outputs": [
    {
     "name": "stdout",
     "output_type": "stream",
     "text": [
      "5\n",
      "* \n",
      "  * \n",
      "    * \n",
      "      * \n",
      "        * \n",
      "6\n",
      "* \n",
      "  * \n",
      "    * \n",
      "      * \n",
      "        * \n",
      "          * \n"
     ]
    }
   ],
   "source": [
    "n = int(input())\n",
    "for row in range(1,n+1):\n",
    "    for col in range(1,row+1):\n",
    "        if row==col:\n",
    "            print('*',end=' ')\n",
    "        else:\n",
    "            print(' ',end=' ')\n",
    "    print()\n",
    "\n",
    "n= int(input())\n",
    "spaces = 0\n",
    "stars = 1\n",
    "for row in range(1,n+1):\n",
    "    for sp in range(1,spaces+1):\n",
    "        print(' ',end=' ')\n",
    "    for sts in range(1,stars+1):\n",
    "        print('*',end=' ')\n",
    "    print()\n",
    "    spaces+=1"
   ]
  },
  {
   "cell_type": "code",
   "execution_count": 13,
   "id": "d85bb708",
   "metadata": {},
   "outputs": [
    {
     "name": "stdout",
     "output_type": "stream",
     "text": [
      "5\n",
      "        * \n",
      "      *   \n",
      "    *     \n",
      "  *       \n",
      "*         \n"
     ]
    }
   ],
   "source": [
    "n = int(input())\n",
    "for row in range(1,n+1):\n",
    "    for col in range(1,n+1):\n",
    "        if row+col==n+1:\n",
    "            print('*',end=' ')\n",
    "        else:\n",
    "            print(' ',end=' ')\n",
    "    print()"
   ]
  },
  {
   "cell_type": "code",
   "execution_count": 14,
   "id": "1cbe2c63",
   "metadata": {},
   "outputs": [
    {
     "name": "stdout",
     "output_type": "stream",
     "text": [
      "5\n",
      "*       * \n",
      "  *   *   \n",
      "    *     \n",
      "  *   *   \n",
      "*       * \n"
     ]
    }
   ],
   "source": [
    "n = int(input())\n",
    "for row in range(1,n+1):\n",
    "    for col in range(1,n+1):\n",
    "        if row == col or row+col==n+1:\n",
    "            print('*',end=' ')\n",
    "        else:\n",
    "            print(' ',end=' ')\n",
    "    print()"
   ]
  },
  {
   "cell_type": "code",
   "execution_count": 16,
   "id": "f561d53b",
   "metadata": {},
   "outputs": [
    {
     "name": "stdout",
     "output_type": "stream",
     "text": [
      "5\n",
      "        * \n",
      "      * * \n",
      "    * * * \n",
      "  * * * * \n",
      "* * * * * \n",
      "6\n",
      "          * \n",
      "        * * \n",
      "      * * * \n",
      "    * * * * \n",
      "  * * * * * \n",
      "* * * * * * \n"
     ]
    }
   ],
   "source": [
    "n = int(input())\n",
    "for row in range(1,n+1):\n",
    "    for col in range(1,n+1):\n",
    "        if col+row>=n+1:\n",
    "            print('*',end=' ')\n",
    "        else:\n",
    "            print(' ',end=' ')\n",
    "    print()\n",
    "\n",
    "    \n",
    "n = int(input())\n",
    "spaces = n-1\n",
    "stars = 1\n",
    "for row in range(1,n+1):\n",
    "    for sp in range(1,spaces+1):\n",
    "        print(' ',end=' ')\n",
    "    for st in range(1,stars+1):\n",
    "        print('*',end=' ')\n",
    "    print()\n",
    "    spaces-=1\n",
    "    stars+=1"
   ]
  },
  {
   "cell_type": "code",
   "execution_count": 23,
   "id": "5ece3208",
   "metadata": {},
   "outputs": [
    {
     "name": "stdout",
     "output_type": "stream",
     "text": [
      "5\n",
      "* * * * * \n",
      "* * * *   \n",
      "* * *     \n",
      "* *       \n",
      "*         \n"
     ]
    }
   ],
   "source": [
    "n = int(input())\n",
    "for row in range(1,n+1):\n",
    "    for col in range(1,n+1):\n",
    "        if col+row<=n+1:\n",
    "            print('*',end=' ')\n",
    "        else:\n",
    "            print(' ',end=' ')\n",
    "    print()"
   ]
  },
  {
   "cell_type": "code",
   "execution_count": 24,
   "id": "945462bd",
   "metadata": {},
   "outputs": [
    {
     "name": "stdout",
     "output_type": "stream",
     "text": [
      "5\n",
      "* * * * * \n",
      "  * * * * \n",
      "    * * * \n",
      "      * * \n",
      "        * \n",
      "7\n",
      "* * * * * * * \n",
      "  * * * * * * \n",
      "    * * * * * \n",
      "      * * * * \n",
      "        * * * \n",
      "          * * \n",
      "            * \n"
     ]
    }
   ],
   "source": [
    "n = int(input())\n",
    "for row in range(1,n+1):\n",
    "    for col in range(1,n+1):\n",
    "        if row<=col:\n",
    "            print('*',end=' ')\n",
    "        else:\n",
    "            print(' ',end=' ')\n",
    "    print()\n",
    "\n",
    "\n",
    "n= int(input())\n",
    "spaces = 0\n",
    "stars = n\n",
    "for row in range(1,n+1):\n",
    "    for sp in range(1,spaces+1):\n",
    "        print(' ',end=' ')\n",
    "    for sts in range(1,stars+1):\n",
    "        print('*',end=' ')\n",
    "    print()\n",
    "    spaces+=1\n",
    "    stars-=1"
   ]
  },
  {
   "cell_type": "code",
   "execution_count": 25,
   "id": "20bf0b65",
   "metadata": {},
   "outputs": [
    {
     "name": "stdout",
     "output_type": "stream",
     "text": [
      "6\n",
      "          * \n",
      "        * * * \n",
      "      * * * * * \n",
      "    * * * * * * * \n",
      "  * * * * * * * * * \n",
      "* * * * * * * * * * * \n"
     ]
    }
   ],
   "source": [
    "n = int(input())\n",
    "spaces = n-1\n",
    "stars = 1\n",
    "for row in range(1,n+1):\n",
    "    for sp in range(1,spaces+1):\n",
    "        print(' ',end=' ')\n",
    "    for st in range(1,stars+1):\n",
    "        print('*',end=' ')\n",
    "    print()\n",
    "    spaces-=1\n",
    "    stars+=2"
   ]
  },
  {
   "cell_type": "code",
   "execution_count": 30,
   "id": "7d29ca37",
   "metadata": {},
   "outputs": [
    {
     "name": "stdout",
     "output_type": "stream",
     "text": [
      "5\n",
      "    * \n",
      "  * * * \n",
      "* * * * * \n",
      "  * * * \n",
      "    * \n"
     ]
    }
   ],
   "source": [
    "n = int(input())\n",
    "spaces = n//2\n",
    "stars = 1\n",
    "for row in range(1,n+1):\n",
    "    for sp in range(1,spaces+1):\n",
    "        print(' ',end=' ')\n",
    "    for st in range(1,stars+1):\n",
    "        print('*',end=' ')\n",
    "    print()\n",
    "    if row<=n//2:\n",
    "        spaces-=1\n",
    "        stars+=2\n",
    "    else:\n",
    "        spaces+=1\n",
    "        stars-=2"
   ]
  },
  {
   "cell_type": "markdown",
   "id": "a5a268d0",
   "metadata": {},
   "source": [
    "#### 30-07-24"
   ]
  },
  {
   "cell_type": "code",
   "execution_count": 1,
   "id": "01298b16",
   "metadata": {},
   "outputs": [
    {
     "name": "stdout",
     "output_type": "stream",
     "text": [
      "5\n",
      "* * * * * * * * * \n",
      "  * * * * * * * \n",
      "    * * * * * \n",
      "      * * * \n",
      "        * \n"
     ]
    }
   ],
   "source": [
    "n=int(input())\n",
    "stars = (2*n)-1\n",
    "spaces = 0\n",
    "for row in range(1,n+1):\n",
    "    for sp in range(1, spaces+1):\n",
    "        print(' ', end = ' ')\n",
    "    for st in range(1,stars+1):\n",
    "        print('*', end=' ')\n",
    "    print()\n",
    "    stars-=2\n",
    "    spaces+=1"
   ]
  },
  {
   "cell_type": "code",
   "execution_count": 4,
   "id": "6c25dcfd",
   "metadata": {},
   "outputs": [
    {
     "name": "stdout",
     "output_type": "stream",
     "text": [
      "5\n",
      "* * * \n",
      "* * \n",
      "* \n",
      "* * \n",
      "* * * \n"
     ]
    }
   ],
   "source": [
    "n=int(input())\n",
    "stars = (n+1)//2\n",
    "for row in range(1,n+1):\n",
    "    for st in range(1,stars+1):\n",
    "        print('*', end=' ')\n",
    "    if row>=n//2+1:\n",
    "        stars+=1\n",
    "    else:\n",
    "        stars-=1\n",
    "    print()"
   ]
  },
  {
   "cell_type": "code",
   "execution_count": 17,
   "id": "976a58ce",
   "metadata": {},
   "outputs": [
    {
     "name": "stdout",
     "output_type": "stream",
     "text": [
      "5\n",
      "* * * * * \n",
      "* * * * \n",
      "* * * \n",
      "* * \n",
      "* \n"
     ]
    }
   ],
   "source": [
    "n=int(input())\n",
    "stars=n\n",
    "for row in range(1,n+1):\n",
    "    for st in range(1,stars+1):\n",
    "        print('*', end=' ')\n",
    "    stars-=1\n",
    "    print()"
   ]
  },
  {
   "cell_type": "code",
   "execution_count": 3,
   "id": "6cd0f207",
   "metadata": {},
   "outputs": [
    {
     "name": "stdout",
     "output_type": "stream",
     "text": [
      "5\n",
      "        * \n",
      "    * * * * * \n",
      "* * * * * * * * * \n",
      "    * * * * * \n",
      "* * * * * * * * * \n"
     ]
    }
   ],
   "source": [
    "n=int(int(input()))\n",
    "space = n-1  #space-=2\n",
    "star = 1 # star +=4\n",
    "for row in range(1,n+1):\n",
    "    for sp in range(1,space+1):\n",
    "        print(' ', end=' ')\n",
    "    \n",
    "    for st in range(1,star+1):\n",
    "        print('*', end=' ')\n",
    "    if st<2*n-1:\n",
    "        star +=4\n",
    "        space-=2\n",
    "    else:\n",
    "        star-=4\n",
    "        space+=2\n",
    "    print()"
   ]
  },
  {
   "cell_type": "code",
   "execution_count": 50,
   "id": "d7ff5226",
   "metadata": {},
   "outputs": [
    {
     "name": "stdout",
     "output_type": "stream",
     "text": [
      "5\n",
      "        * \n",
      "    * * * * * \n",
      "* * * * * * * * * \n",
      "    * * * * * \n",
      "        * \n"
     ]
    }
   ],
   "source": [
    "n=int(input())\n",
    "spaces = n-1\n",
    "stars = 1\n",
    "\n",
    "for row in range(1,n+1):\n",
    "    for sp in range(1,spaces+1):\n",
    "        print(' ',end=' ')\n",
    "    \n",
    "    for st in range(1,stars+1):\n",
    "            print('*', end=' ')\n",
    "    print()\n",
    "    \n",
    "    if row<=n//2:\n",
    "        stars+=4\n",
    "        spaces-=2\n",
    "    else:\n",
    "        stars-=4\n",
    "        spaces+=2"
   ]
  },
  {
   "cell_type": "code",
   "execution_count": 5,
   "id": "10e87725",
   "metadata": {},
   "outputs": [
    {
     "name": "stdout",
     "output_type": "stream",
     "text": [
      "3\n",
      "        * \n",
      "    *   *   * \n",
      "*   *   *   *   * \n",
      "    *   *   * \n",
      "        * \n"
     ]
    }
   ],
   "source": [
    "n = int(input())  \n",
    "stars = 1\n",
    "spaces = 2*n-2\n",
    "for row in range(1,2*n):\n",
    "    for sp in range(1, spaces+1):\n",
    "        print(' ', end=' ')\n",
    "    \n",
    "    for st in range(1, stars+1):\n",
    "        if st%2==0:\n",
    "            print(' ', end=' ')\n",
    "        else:\n",
    "            print('*', end=' ')\n",
    "    if row < n:\n",
    "        spaces-=2\n",
    "        stars+=4\n",
    "    else: \n",
    "        spaces+=2\n",
    "        stars-=4\n",
    "    print()\n",
    "    "
   ]
  },
  {
   "cell_type": "code",
   "execution_count": 9,
   "id": "354a8b40",
   "metadata": {},
   "outputs": [
    {
     "name": "stdout",
     "output_type": "stream",
     "text": [
      "3\n",
      "        *   \n",
      "    *   *   *   \n",
      "*   *   *   *   *   \n",
      "    *   *   *   \n",
      "        *   \n"
     ]
    }
   ],
   "source": [
    "n=int(input())\n",
    "spaces = 2*n-2\n",
    "stars = 1\n",
    "\n",
    "for row in range(1,2*n):\n",
    "    for sp in range(1,spaces+1):\n",
    "        print(' ',end=' ')\n",
    "    \n",
    "    for st in range(1,stars+1):\n",
    "            print('*  ', end=' ')\n",
    "    print()\n",
    "    \n",
    "    if row<n:\n",
    "        stars+=2\n",
    "        spaces-=2\n",
    "    else:\n",
    "        stars-=2\n",
    "        spaces+=2"
   ]
  },
  {
   "cell_type": "raw",
   "id": "29abd39a",
   "metadata": {},
   "source": [
    "* * * * * * * * *  \n",
    "* * * *   * * * *  \n",
    "* * *       * * * \n",
    "* *           * * \n",
    "*               *\n",
    "n=3, row = 4\n",
    "st 7 6 4 2 \n",
    "sp 0 1 3 5\n",
    "\n",
    "n=5, row = 5\n",
    "st 11 10 8 6 4 2\n",
    "sp 0  1  3 5 7 9\n",
    "\n",
    "n=7, row = 8\n",
    "st 15 14 12 10 8 6 4  2\n",
    "sp 0   1  3  5 7 9 11 13\n",
    "\n",
    "n=9\n",
    "st 19 18 16 14 12 10 8  6  4  2 \n",
    "sp  0  1  3  5  7  9 11 13 15 17"
   ]
  },
  {
   "cell_type": "code",
   "execution_count": 3,
   "id": "341dafb9",
   "metadata": {},
   "outputs": [
    {
     "name": "stdout",
     "output_type": "stream",
     "text": [
      "3\n",
      "* * * * \n",
      "* * \n",
      "\n",
      "* * \n",
      "* * * * \n"
     ]
    }
   ],
   "source": [
    "n=int(input())\n",
    "spaces = 2*n-2\n",
    "for row in range(1,2*n):\n",
    "    for sp in range(1,spaces+1):\n",
    "        print('*', end=' ')\n",
    "    if row < n:\n",
    "        spaces-=2\n",
    "    else: \n",
    "        spaces+=2\n",
    "    print()"
   ]
  },
  {
   "cell_type": "code",
   "execution_count": 4,
   "id": "4cde7c72",
   "metadata": {},
   "outputs": [
    {
     "name": "stdout",
     "output_type": "stream",
     "text": [
      "5\n",
      "        * \n",
      "    * * * \n",
      "* * * * * \n",
      "    * * * \n",
      "        * \n"
     ]
    }
   ],
   "source": [
    "n=int(input())\n",
    "spaces = n-1\n",
    "stars = 1\n",
    "\n",
    "for row in range(1,n+1):\n",
    "    for sp in range(1,spaces+1):\n",
    "        print(' ',end=' ')\n",
    "    \n",
    "    for st in range(1,stars+1):\n",
    "            print('*', end=' ')\n",
    "    print()\n",
    "    \n",
    "    if row<=n//2:  # or row<n//2+1\n",
    "        stars+=2\n",
    "        spaces-=2\n",
    "    else:\n",
    "        stars-=2\n",
    "        spaces+=2"
   ]
  },
  {
   "cell_type": "code",
   "execution_count": 61,
   "id": "b95e1d32",
   "metadata": {},
   "outputs": [
    {
     "name": "stdout",
     "output_type": "stream",
     "text": [
      "7\n",
      "      * \n",
      "    * * \n",
      "  * * * \n",
      "* * * * \n",
      "  * * * \n",
      "    * * \n",
      "      * \n"
     ]
    }
   ],
   "source": [
    "n=int(input())\n",
    "stars=1\n",
    "spaces=(n+1)//2-1\n",
    "for row in range(1,n+1):\n",
    "    for sp in range(1, spaces+1):\n",
    "        print(' ', end=' ')\n",
    "    for st in range(1, stars+1):\n",
    "        print('*', end=' ')\n",
    "    if row<=n//2:\n",
    "        stars+=1\n",
    "        spaces-=1\n",
    "    else:\n",
    "        stars-=1\n",
    "        spaces+=1\n",
    "    print()"
   ]
  },
  {
   "cell_type": "code",
   "execution_count": 75,
   "id": "f780a8f8",
   "metadata": {},
   "outputs": [
    {
     "name": "stdout",
     "output_type": "stream",
     "text": [
      "5\n",
      "          *   \n",
      "        *   *   \n",
      "      *   *   *   \n",
      "    *   *   *   *   \n",
      "  *   *   *   *   *   \n"
     ]
    }
   ],
   "source": [
    "n=int(input())\n",
    "spaces = n\n",
    "for row in range(1, n+1):\n",
    "    for sp in range(1,spaces+1):\n",
    "        print(' ', end=' ')\n",
    "    for st in range(1,row+1):\n",
    "        print('*', end=' ')\n",
    "        print(' ', end=' ')\n",
    "    spaces-=1\n",
    "    print()"
   ]
  },
  {
   "cell_type": "code",
   "execution_count": 48,
   "id": "22c46f14",
   "metadata": {},
   "outputs": [
    {
     "name": "stdout",
     "output_type": "stream",
     "text": [
      "5\n",
      "* * * * * * * * * * * \n",
      "* * * * *   * * * * * \n",
      "* * * *       * * * * \n",
      "* * *           * * * \n",
      "* *               * * \n",
      "*                   * \n"
     ]
    }
   ],
   "source": [
    "n=int(input())\n",
    "stars = 2*n+1\n",
    "spaces = 0\n",
    "\n",
    "   \n",
    "for st in range(1, stars+1):\n",
    "    print('*', end= ' ')\n",
    "    \n",
    "print()\n",
    "\n",
    "\n",
    "for st in range(n,0,-1):\n",
    "    stars=st\n",
    "    spaces=(2*n)+1 - 2*stars\n",
    "    for i in range(1,stars+1):\n",
    "        print('*',end= ' ')\n",
    "    for j in range(1,spaces+1):\n",
    "        print(' ',end=' ')\n",
    "    for k in range(1,stars+1):\n",
    "        print('*',end=' ')\n",
    "    print ()\n",
    "            \n",
    "                \n"
   ]
  },
  {
   "cell_type": "code",
   "execution_count": 27,
   "id": "7ba673d8",
   "metadata": {},
   "outputs": [
    {
     "name": "stdout",
     "output_type": "stream",
     "text": [
      "5\n",
      "* * * * * * * * * * * \n",
      "* * * * *   * * * * * \n",
      "* * * *       * * * * \n",
      "* * *           * * * \n",
      "* *               * * \n",
      "*                   * \n"
     ]
    }
   ],
   "source": [
    "n=int(input())\n",
    "stars = 2*n+1\n",
    "spaces = 0\n",
    "while stars>1:\n",
    "    if stars == 2*n+1:    \n",
    "        for st in range(1, stars+1):\n",
    "            print('*', end= ' ')\n",
    "        stars-=1\n",
    "        spaces+=1\n",
    "    else:\n",
    "        cnt = 0\n",
    "        for st in range(1,stars+2):\n",
    "            if st>stars//2 and cnt <1:\n",
    "                cnt+=1\n",
    "                for sp in range(1,spaces+1):\n",
    "                    print(' ', end=' ')\n",
    "            else:\n",
    "                print('*', end=' ')\n",
    "        stars-=2\n",
    "        spaces+=2\n",
    "    print()"
   ]
  },
  {
   "cell_type": "code",
   "execution_count": 23,
   "id": "09a910ea",
   "metadata": {},
   "outputs": [
    {
     "name": "stdout",
     "output_type": "stream",
     "text": [
      "5\n",
      "                * \n",
      "            * * \n",
      "        * * * \n",
      "    * * * * \n",
      "* * * * * \n"
     ]
    }
   ],
   "source": [
    "# n=8, r = 8, sp = 14\n",
    "# n=7, r=7, sp=12       -----> (n-1)*2\n",
    "\n",
    "n=int(input())\n",
    "spaces = (n-1)*2\n",
    "for row in range(1, n+1):\n",
    "    for sp in range(1,spaces+1):\n",
    "        print(' ', end=' ')\n",
    "    for st in range(1,row+1):\n",
    "        print('*', end=' ')\n",
    "    spaces-=2\n",
    "    print()"
   ]
  },
  {
   "cell_type": "code",
   "execution_count": null,
   "id": "74117265",
   "metadata": {},
   "outputs": [],
   "source": []
  }
 ],
 "metadata": {
  "kernelspec": {
   "display_name": "Python 3 (ipykernel)",
   "language": "python",
   "name": "python3"
  },
  "language_info": {
   "codemirror_mode": {
    "name": "ipython",
    "version": 3
   },
   "file_extension": ".py",
   "mimetype": "text/x-python",
   "name": "python",
   "nbconvert_exporter": "python",
   "pygments_lexer": "ipython3",
   "version": "3.8.3"
  }
 },
 "nbformat": 4,
 "nbformat_minor": 5
}
