{
 "cells": [
  {
   "cell_type": "markdown",
   "id": "95484d48-0d90-4197-a158-3f6837ac8ce0",
   "metadata": {},
   "source": [
    "### Merge Strings Alternately\n",
    "You are given two strings word1 and word2. Merge the strings by adding letters in alternating order, starting with word1. If a string is longer than the other, append the additional letters onto the end of the merged string."
   ]
  },
  {
   "cell_type": "raw",
   "id": "1599654a-0724-432c-912e-baf59e903f10",
   "metadata": {},
   "source": [
    "def mergeAlternately(self, word1: str, word2: str) -> str:\n",
    "    new_string = ''\n",
    "    n1, n2 = len(word1), len(word2)\n",
    "    if n1<n2:\n",
    "        n, word = n1, word2\n",
    "    else:\n",
    "        n, word = n2, word1\n",
    "    for i in range(n):\n",
    "        new_string += word1[i] + word2[i]\n",
    "    new_string += word[n:]\n",
    "    return new_string\n",
    "new_string = mergeAlternately('mergeAlternately','abcd', 'pq')\n",
    "new_string ---> 'apbqcd'"
   ]
  },
  {
   "cell_type": "code",
   "execution_count": 6,
   "id": "e2322b92-32fd-40cc-bd0c-d2509959d0fa",
   "metadata": {},
   "outputs": [
    {
     "data": {
      "text/plain": [
       "'apbqcd'"
      ]
     },
     "execution_count": 6,
     "metadata": {},
     "output_type": "execute_result"
    }
   ],
   "source": [
    "def mergeAlternately( word1: str, word2: str) -> str:\n",
    "    new_string = ''\n",
    "    n1, n2 = len(word1), len(word2)\n",
    "    if n1<n2:\n",
    "        n, word = n1, word2\n",
    "    else:\n",
    "        n, word = n2, word1\n",
    "    for i in range(n):\n",
    "        new_string += word1[i] + word2[i]\n",
    "    new_string += word[n:]\n",
    "    return new_string\n",
    "mergeAlternately('abcd', 'pq')"
   ]
  },
  {
   "cell_type": "code",
   "execution_count": 21,
   "id": "88bd8c09-3281-49e5-8906-7e1b689119fe",
   "metadata": {},
   "outputs": [
    {
     "data": {
      "text/plain": [
       "'a'"
      ]
     },
     "execution_count": 21,
     "metadata": {},
     "output_type": "execute_result"
    }
   ],
   "source": [
    "def findTheDifference( s: str, t: str) -> str:\n",
    "        s = list(s)\n",
    "        t = list(t)\n",
    "        for i in s:\n",
    "            if i  in t:\n",
    "                t.remove(i)\n",
    "        return t[0]\n",
    "findTheDifference( 'a', 'aa')"
   ]
  },
  {
   "cell_type": "markdown",
   "id": "4c050607-fa50-4c72-b861-3728061a50d5",
   "metadata": {},
   "source": [
    "* Using ASCII sum difference:- ord() and chr() functions\n",
    "* "
   ]
  },
  {
   "cell_type": "markdown",
   "id": "7496a5fd-141b-4061-9900-5f8de91623b7",
   "metadata": {},
   "source": [
    "    You are given two strings word1 and word2. Merge the strings by adding letters in alternating order, starting with word1. If a string is longer than the other, append the additional letters onto the end of the merged string. Return the merged string.\n",
    "    Input: word1 = \"abc\", word2 = \"pqr\"\n",
    "    Output: \"apbqcr\"\n",
    "    Explanation: The merged string will be merged as so:\n",
    "    word1:  a   b   c\n",
    "    word2:  p   q   r\n",
    "    merged: a p b q c r"
   ]
  },
  {
   "cell_type": "code",
   "execution_count": 24,
   "id": "38d2209f-d15b-4870-8ed4-2d4d75823ff9",
   "metadata": {},
   "outputs": [],
   "source": [
    "word1 = 'abcd'\n",
    "word2 = 'pqrstuvw'"
   ]
  },
  {
   "cell_type": "code",
   "execution_count": 2,
   "id": "7e61200b-e29f-4a9b-b3e4-5cc4590f3fb7",
   "metadata": {},
   "outputs": [],
   "source": [
    "def merge_string(word1, word2):\n",
    "        new_string = ''\n",
    "        n1, n2 = len(word1), len(word2)\n",
    "        if n1<n2:\n",
    "            n, word = n1, word2\n",
    "        else:\n",
    "            n, word = n2, word1\n",
    "        for i in range(n):\n",
    "            new_string += word1[i] + word2[i]\n",
    "        new_string += word[n:]\n",
    "        return new_string"
   ]
  },
  {
   "cell_type": "code",
   "execution_count": 23,
   "id": "01ab0aa2-076a-4676-a461-50521124b865",
   "metadata": {},
   "outputs": [
    {
     "data": {
      "text/plain": [
       "'apbqcrdstuvw'"
      ]
     },
     "execution_count": 23,
     "metadata": {},
     "output_type": "execute_result"
    }
   ],
   "source": [
    "new = []\n",
    "for w1, w2 in zip(word1, word2):\n",
    "    new.append(w1+w2)\n",
    "st = ''.join(new)\n",
    "st+=word1[len(word2):]+word2[len(word1):]\n",
    "st"
   ]
  },
  {
   "cell_type": "code",
   "execution_count": 38,
   "id": "71171a6e-4067-495d-b43f-22b9e6e8ddd7",
   "metadata": {},
   "outputs": [
    {
     "data": {
      "text/plain": [
       "'apbqcrdstuvw'"
      ]
     },
     "execution_count": 38,
     "metadata": {},
     "output_type": "execute_result"
    }
   ],
   "source": [
    "new_str = ''.join([a+b   for a,b in zip(word1, word2)]) + word1[len(word2):]+word2[len(word1):]\n",
    "new_str"
   ]
  },
  {
   "cell_type": "markdown",
   "id": "59045663-def6-409b-b512-c613bae29514",
   "metadata": {},
   "source": [
    "    Given two strings needle and haystack, return the index of the first occurrence of needle in haystack, or -1 if needle is not part of haystack.\n",
    "    Input: haystack = \"sadbutsad\", needle = \"sad\"\n",
    "    Output: 0"
   ]
  },
  {
   "cell_type": "code",
   "execution_count": 49,
   "id": "7b6e630e-a8fb-4f41-a7db-739539c04cfd",
   "metadata": {},
   "outputs": [
    {
     "name": "stdout",
     "output_type": "stream",
     "text": [
      "-1\n"
     ]
    }
   ],
   "source": [
    "haystack = 'leetcode' #\"sadbutsad\"\n",
    "needle = 'leeto' #\"sad\"\n",
    "if needle in haystack:\n",
    "    print(haystack.index(needle[:]))\n",
    "else:\n",
    "    print(-1)"
   ]
  },
  {
   "cell_type": "code",
   "execution_count": 54,
   "id": "2d8b7103-541e-4d2b-87e4-646043eb8f65",
   "metadata": {},
   "outputs": [
    {
     "name": "stdout",
     "output_type": "stream",
     "text": [
      "1\n",
      "3\n"
     ]
    }
   ],
   "source": [
    "needle = 'sbdbdutsad'\n",
    "val = 'bd'\n",
    "if needle in haystack:\n",
    "    for i in range(len(haystack)):\n",
    "        if haystack[i:i+len(needle)] == needle:\n",
    "            print(i)"
   ]
  },
  {
   "cell_type": "code",
   "execution_count": 64,
   "id": "16d5405f-9bc9-40fb-bfca-eb8a010c4b81",
   "metadata": {},
   "outputs": [
    {
     "data": {
      "text/plain": [
       "2"
      ]
     },
     "execution_count": 64,
     "metadata": {},
     "output_type": "execute_result"
    }
   ],
   "source": [
    "haystack = 'hello'\n",
    "needle = 'll'\n",
    "def needle_haystack(haystack, needle):\n",
    "    if needle in haystack:\n",
    "        for i in range(len(haystack)):\n",
    "            if haystack[i:i+len(needle)] == needle:\n",
    "                return i\n",
    "        else:\n",
    "            return -1\n",
    "    else:\n",
    "        return -1\n",
    "needle_haystack(haystack, needle)"
   ]
  },
  {
   "cell_type": "markdown",
   "id": "6f5b1cb6-b316-4672-b877-23286755f47e",
   "metadata": {},
   "source": [
    "    Given two strings s and t, return true if t is an anagram of s, and false otherwise.\n",
    "    Input: s = \"anagram\", t = \"nagaram\"\n",
    "    Output: true"
   ]
  },
  {
   "cell_type": "code",
   "execution_count": 72,
   "id": "e535c09c-ec5c-4851-88e7-a34ba6ffd7b6",
   "metadata": {},
   "outputs": [
    {
     "data": {
      "text/plain": [
       "True"
      ]
     },
     "execution_count": 72,
     "metadata": {},
     "output_type": "execute_result"
    }
   ],
   "source": [
    "s = \"anagram\"\n",
    "t = \"nagaram\"\n",
    "sorted(s) == sorted(t)"
   ]
  },
  {
   "cell_type": "code",
   "execution_count": 82,
   "id": "5e363087-6cf3-477b-828d-9239ea215bfa",
   "metadata": {},
   "outputs": [
    {
     "ename": "TypeError",
     "evalue": "'type' object is not iterable",
     "output_type": "error",
     "traceback": [
      "\u001b[1;31m---------------------------------------------------------------------------\u001b[0m",
      "\u001b[1;31mTypeError\u001b[0m                                 Traceback (most recent call last)",
      "Cell \u001b[1;32mIn[82], line 16\u001b[0m\n\u001b[0;32m     14\u001b[0m             \u001b[38;5;28;01mreturn\u001b[39;00m \u001b[38;5;28;01mFalse\u001b[39;00m \n\u001b[0;32m     15\u001b[0m     \u001b[38;5;28;01mreturn\u001b[39;00m \u001b[38;5;28;01mTrue\u001b[39;00m\n\u001b[1;32m---> 16\u001b[0m \u001b[43misAnagram\u001b[49m\u001b[43m(\u001b[49m\u001b[43ms\u001b[49m\u001b[43m,\u001b[49m\u001b[43mt\u001b[49m\u001b[43m)\u001b[49m\n",
      "Cell \u001b[1;32mIn[82], line 4\u001b[0m, in \u001b[0;36misAnagram\u001b[1;34m(s, t)\u001b[0m\n\u001b[0;32m      3\u001b[0m \u001b[38;5;28;01mdef\u001b[39;00m \u001b[38;5;21misAnagram\u001b[39m(s: \u001b[38;5;28mstr\u001b[39m, t: \u001b[38;5;28mstr\u001b[39m) \u001b[38;5;241m-\u001b[39m\u001b[38;5;241m>\u001b[39m \u001b[38;5;28mbool\u001b[39m:\n\u001b[1;32m----> 4\u001b[0m     count \u001b[38;5;241m=\u001b[39m \u001b[38;5;28;43mdict\u001b[39;49m\u001b[43m(\u001b[49m\u001b[38;5;28;43mint\u001b[39;49m\u001b[43m)\u001b[49m\n\u001b[0;32m      5\u001b[0m     \u001b[38;5;66;03m# Count the frequency of characters in string s\u001b[39;00m\n\u001b[0;32m      6\u001b[0m     \u001b[38;5;28;01mfor\u001b[39;00m x \u001b[38;5;129;01min\u001b[39;00m s:\n",
      "\u001b[1;31mTypeError\u001b[0m: 'type' object is not iterable"
     ]
    }
   ],
   "source": [
    "s = \"anagram\"\n",
    "t = \"nagaram\"\n",
    "def isAnagram(s: str, t: str) -> bool:\n",
    "    count = \n",
    "    # Count the frequency of characters in string s\n",
    "    for x in s:\n",
    "        count[x] += 1\n",
    "    # Decrement the frequency of characters in string t\n",
    "    for x in t:\n",
    "        count[x] -= 1 \n",
    "    # Check if any character has non-zero frequency\n",
    "    for val in count.values():\n",
    "        if val != 0:\n",
    "            return False \n",
    "    return True\n",
    "isAnagram(s,t)"
   ]
  },
  {
   "cell_type": "code",
   "execution_count": 83,
   "id": "36252137-eb17-4391-88f0-f54ed2303b3e",
   "metadata": {},
   "outputs": [
    {
     "data": {
      "text/plain": [
       "True"
      ]
     },
     "execution_count": 83,
     "metadata": {},
     "output_type": "execute_result"
    }
   ],
   "source": [
    "s = \"anagram\"\n",
    "t = \"nagaram\"\n",
    "def isAnagram(s: str, t: str) -> bool:\n",
    "        count = [0] * 26\n",
    "        \n",
    "        # Count the frequency of characters in string s\n",
    "        for x in s:\n",
    "            count[ord(x) - ord('a')] += 1\n",
    "        \n",
    "        # Decrement the frequency of characters in string t\n",
    "        for x in t:\n",
    "            count[ord(x) - ord('a')] -= 1\n",
    "        \n",
    "        # Check if any character has non-zero frequency\n",
    "        for val in count:\n",
    "            if val != 0:\n",
    "                return False\n",
    "        \n",
    "        return True\n",
    "isAnagram(s,t)"
   ]
  },
  {
   "cell_type": "code",
   "execution_count": 102,
   "id": "f93a5791-9592-4cae-b16a-4cb6e4b463f6",
   "metadata": {},
   "outputs": [
    {
     "data": {
      "text/plain": [
       "defaultdict(dict, {})"
      ]
     },
     "execution_count": 102,
     "metadata": {},
     "output_type": "execute_result"
    }
   ],
   "source": [
    "from collections import defaultdict\n",
    "\n",
    "# Create a defaultdict with a default\n",
    "# value of an empty list\n",
    "d = defaultdict(dict)\n",
    "d"
   ]
  },
  {
   "cell_type": "code",
   "execution_count": null,
   "id": "c7782799-bc49-44f9-b604-5b78ad458d6b",
   "metadata": {},
   "outputs": [],
   "source": []
  },
  {
   "cell_type": "code",
   "execution_count": null,
   "id": "61a03c03-f4e4-4f40-ae86-1f1cb1b6abab",
   "metadata": {},
   "outputs": [],
   "source": []
  },
  {
   "cell_type": "code",
   "execution_count": 100,
   "id": "fab74f0b-26c8-42ec-99ea-832810e3c384",
   "metadata": {},
   "outputs": [
    {
     "name": "stdout",
     "output_type": "stream",
     "text": [
      "defaultdict(<class 'list'>, {'fruits': ['apple'], 'vegetables': ['carrot']})\n",
      "[]\n"
     ]
    }
   ],
   "source": [
    "from collections import defaultdict\n",
    "\n",
    "# Create a defaultdict with a default\n",
    "# value of an empty list\n",
    "d = defaultdict(list)\n",
    "\n",
    "# Add elements to the defaultdict and print it\n",
    "d['fruits'].append('apple')\n",
    "d['vegetables'].append('carrot')\n",
    "print(d)\n",
    "\n",
    "# No key error raised here and an empty list\n",
    "# is printed\n",
    "print(d['juices'])"
   ]
  },
  {
   "cell_type": "code",
   "execution_count": 101,
   "id": "d6fbcdde-d57c-45f3-b8a3-0ac62a2ce539",
   "metadata": {},
   "outputs": [
    {
     "data": {
      "text/plain": [
       "defaultdict(list,\n",
       "            {'fruits': ['apple'],\n",
       "             'vegetables': ['carrot'],\n",
       "             'juices': 'watermelon'})"
      ]
     },
     "execution_count": 101,
     "metadata": {},
     "output_type": "execute_result"
    }
   ],
   "source": [
    "d['juices'] = 'watermelon'\n",
    "d"
   ]
  },
  {
   "cell_type": "code",
   "execution_count": null,
   "id": "9605d85c-cbb4-4dc3-bf07-8695d3cc7854",
   "metadata": {},
   "outputs": [],
   "source": []
  }
 ],
 "metadata": {
  "kernelspec": {
   "display_name": "Python 3 (ipykernel)",
   "language": "python",
   "name": "python3"
  },
  "language_info": {
   "codemirror_mode": {
    "name": "ipython",
    "version": 3
   },
   "file_extension": ".py",
   "mimetype": "text/x-python",
   "name": "python",
   "nbconvert_exporter": "python",
   "pygments_lexer": "ipython3",
   "version": "3.12.4"
  }
 },
 "nbformat": 4,
 "nbformat_minor": 5
}
