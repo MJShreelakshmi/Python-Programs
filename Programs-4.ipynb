{
 "cells": [
  {
   "cell_type": "markdown",
   "id": "95484d48-0d90-4197-a158-3f6837ac8ce0",
   "metadata": {},
   "source": [
    "### Merge Strings Alternately\n",
    "You are given two strings word1 and word2. Merge the strings by adding letters in alternating order, starting with word1. If a string is longer than the other, append the additional letters onto the end of the merged string."
   ]
  },
  {
   "cell_type": "raw",
   "id": "1599654a-0724-432c-912e-baf59e903f10",
   "metadata": {},
   "source": [
    "def mergeAlternately(self, word1: str, word2: str) -> str:\n",
    "    new_string = ''\n",
    "    n1, n2 = len(word1), len(word2)\n",
    "    if n1<n2:\n",
    "        n, word = n1, word2\n",
    "    else:\n",
    "        n, word = n2, word1\n",
    "    for i in range(n):\n",
    "        new_string += word1[i] + word2[i]\n",
    "    new_string += word[n:]\n",
    "    return new_string\n",
    "new_string = mergeAlternately('mergeAlternately','abcd', 'pq')\n",
    "new_string ---> 'apbqcd'"
   ]
  },
  {
   "cell_type": "code",
   "execution_count": 6,
   "id": "e2322b92-32fd-40cc-bd0c-d2509959d0fa",
   "metadata": {},
   "outputs": [
    {
     "data": {
      "text/plain": [
       "'apbqcd'"
      ]
     },
     "execution_count": 6,
     "metadata": {},
     "output_type": "execute_result"
    }
   ],
   "source": [
    "def mergeAlternately( word1: str, word2: str) -> str:\n",
    "    new_string = ''\n",
    "    n1, n2 = len(word1), len(word2)\n",
    "    if n1<n2:\n",
    "        n, word = n1, word2\n",
    "    else:\n",
    "        n, word = n2, word1\n",
    "    for i in range(n):\n",
    "        new_string += word1[i] + word2[i]\n",
    "    new_string += word[n:]\n",
    "    return new_string\n",
    "mergeAlternately('abcd', 'pq')"
   ]
  },
  {
   "cell_type": "code",
   "execution_count": 21,
   "id": "88bd8c09-3281-49e5-8906-7e1b689119fe",
   "metadata": {},
   "outputs": [
    {
     "data": {
      "text/plain": [
       "'a'"
      ]
     },
     "execution_count": 21,
     "metadata": {},
     "output_type": "execute_result"
    }
   ],
   "source": [
    "def findTheDifference( s: str, t: str) -> str:\n",
    "        s = list(s)\n",
    "        t = list(t)\n",
    "        for i in s:\n",
    "            if i  in t:\n",
    "                t.remove(i)\n",
    "        return t[0]\n",
    "findTheDifference( 'a', 'aa')"
   ]
  },
  {
   "cell_type": "markdown",
   "id": "4c050607-fa50-4c72-b861-3728061a50d5",
   "metadata": {},
   "source": [
    "* Using ASCII sum difference:- ord() and chr() functions\n",
    "* "
   ]
  },
  {
   "cell_type": "code",
   "execution_count": null,
   "id": "64c19ad1-f3e8-4df9-80af-362bd7545997",
   "metadata": {},
   "outputs": [],
   "source": []
  }
 ],
 "metadata": {
  "kernelspec": {
   "display_name": "Python 3 (ipykernel)",
   "language": "python",
   "name": "python3"
  },
  "language_info": {
   "codemirror_mode": {
    "name": "ipython",
    "version": 3
   },
   "file_extension": ".py",
   "mimetype": "text/x-python",
   "name": "python",
   "nbconvert_exporter": "python",
   "pygments_lexer": "ipython3",
   "version": "3.12.4"
  }
 },
 "nbformat": 4,
 "nbformat_minor": 5
}
