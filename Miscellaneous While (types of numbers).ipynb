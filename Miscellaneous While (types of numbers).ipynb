{
 "cells": [
  {
   "cell_type": "markdown",
   "id": "00fad916",
   "metadata": {},
   "source": [
    "1. WAPT find the sum of individual digits of a given number ( using for loop, while loop and without typecasting )\n",
    "\n",
    "#### Process of extracting indivual digits of a given number:\n",
    "1. Divide the given number by 10 and get the remainder (so the last digit is extracted)\n",
    "2. As we have extracted last digit, we will reduce the number so that  we can eliminate the last digit by reassigning the number's value after dividing it with 10 to the same variable.\n",
    "3. The above 2 steps has to be repeated till N is greater than 0 (so we can use while loop since the number of iterations is not known)\n",
    "\n",
    "Iterartions:\n",
    "\n",
    "    1. rem = 5428%10 = 8\n",
    "       n = 5428//10 = 542\n",
    "       sum_ = 0+8 = 8\n",
    "    2. rem = 542%10 = 2\n",
    "       n = 542//10 = 54\n",
    "       sum_ = 8+2 = 10\n",
    "    3. rem = 54%10 = 4\n",
    "       sum_ = 10+4 = 14\n",
    "       n = 54//10 = 5\n",
    "    4. rem = 5%10 = 5\n",
    "       sum_ = 14+5 = 19\n",
    "       n = 5//10 = 0\n",
    "    5. n>0: False   "
   ]
  },
  {
   "cell_type": "code",
   "execution_count": 4,
   "id": "ceb794bd",
   "metadata": {},
   "outputs": [
    {
     "name": "stdout",
     "output_type": "stream",
     "text": [
      "5428\n",
      "19\n"
     ]
    }
   ],
   "source": [
    "n = int(input())\n",
    "sum_=0\n",
    "while n>0:\n",
    "    rem = n%10\n",
    "    sum_+=rem\n",
    "    n//=10\n",
    "print(sum_)"
   ]
  },
  {
   "cell_type": "markdown",
   "id": "0b524706",
   "metadata": {},
   "source": [
    "#### 2. WAPT check if a given number is Harshad number or not\n",
    "\n",
    "Note: Harshad Number is a number which is divisible by sum of its individual digits.\n",
    "\n",
    "Eg: n=12\n",
    "\n",
    "    1+2 = 3; 12 is divisible by 3\n",
    "    12 is a Harshad number"
   ]
  },
  {
   "cell_type": "code",
   "execution_count": 9,
   "id": "f0e869c2",
   "metadata": {},
   "outputs": [
    {
     "name": "stdout",
     "output_type": "stream",
     "text": [
      "12\n",
      "12 is a Harshad Number\n"
     ]
    }
   ],
   "source": [
    "n = int(input())\n",
    "dummy=n\n",
    "sum_ = 0\n",
    "while dummy>0:\n",
    "    rem = dummy%10\n",
    "    sum_+=rem\n",
    "    dummy//=10\n",
    "if n%sum_ ==0:\n",
    "    print(f'{n} is a Harshad Number')\n",
    "else:\n",
    "    print(f'{n} is not a Harshad Number')"
   ]
  },
  {
   "cell_type": "markdown",
   "id": "3e96c41e",
   "metadata": {},
   "source": [
    "#### 3. WAPT reverse a given number"
   ]
  },
  {
   "cell_type": "code",
   "execution_count": 10,
   "id": "969ec721",
   "metadata": {},
   "outputs": [
    {
     "name": "stdout",
     "output_type": "stream",
     "text": [
      "5428\n",
      "8245\n"
     ]
    }
   ],
   "source": [
    "n = int(input())\n",
    "dummy=n\n",
    "rev = 0\n",
    "while dummy>0:\n",
    "    rem = dummy%10\n",
    "    dummy //=10\n",
    "    rev = rev*10+rem\n",
    "print(rev)"
   ]
  },
  {
   "cell_type": "markdown",
   "id": "fb38c41f",
   "metadata": {},
   "source": [
    "#### 4. WAPT check given number is palindrome or not ( number is same when reversed )"
   ]
  },
  {
   "cell_type": "code",
   "execution_count": 12,
   "id": "b999d08f",
   "metadata": {},
   "outputs": [
    {
     "name": "stdout",
     "output_type": "stream",
     "text": [
      "121\n",
      "121 is a palindrome\n"
     ]
    }
   ],
   "source": [
    "n = int(input())\n",
    "dummy = n\n",
    "rev = 0\n",
    "while dummy>0:\n",
    "    rem = dummy%10\n",
    "    dummy//=10\n",
    "    rev = rev*10+rem\n",
    "if rev == n:\n",
    "    print(f'{n} is a palindrome')\n",
    "else:\n",
    "    print(f'{n} is not a palindrome')"
   ]
  },
  {
   "cell_type": "markdown",
   "id": "22ec69ed",
   "metadata": {},
   "source": [
    "#### 5. WAPT check given number is Armstrong number or not\n",
    "Number is equal to the sum of individual digits raised to the power of total number of digits present in the given number.\n",
    "\n",
    "Exampe:\n",
    "    "
   ]
  }
 ],
 "metadata": {
  "kernelspec": {
   "display_name": "Python 3 (ipykernel)",
   "language": "python",
   "name": "python3"
  },
  "language_info": {
   "codemirror_mode": {
    "name": "ipython",
    "version": 3
   },
   "file_extension": ".py",
   "mimetype": "text/x-python",
   "name": "python",
   "nbconvert_exporter": "python",
   "pygments_lexer": "ipython3",
   "version": "3.8.3"
  }
 },
 "nbformat": 4,
 "nbformat_minor": 5
}
