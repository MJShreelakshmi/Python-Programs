{
 "cells": [
  {
   "cell_type": "markdown",
   "id": "dc10be58",
   "metadata": {},
   "source": [
    "##### scenario 1:\n",
    "    1. columnwise incrementation\n",
    "        ------> incremet in inner\n",
    "    2. rowwise incrementaion\n",
    "        ------> increment in outer loop\n",
    "\n",
    "##### scenario 2:\n",
    "    1. incremented value taken to next row or not\n",
    "        ------> define dummy outside of outer loop\n",
    "    2. reintilization is done or not\n",
    "        ------> define dummy inside outer loop"
   ]
  },
  {
   "cell_type": "code",
   "execution_count": 2,
   "id": "4bc1c7c6",
   "metadata": {},
   "outputs": [
    {
     "name": "stdout",
     "output_type": "stream",
     "text": [
      "5\n",
      "1 1 1 1 1 \n",
      "2 2 2 2 2 \n",
      "3 3 3 3 3 \n",
      "4 4 4 4 4 \n",
      "5 5 5 5 5 \n"
     ]
    }
   ],
   "source": [
    "n = int(input())\n",
    "dummy = 1\n",
    "for row in range(1,n+1):\n",
    "    for col in range(1,n+1):\n",
    "        print(dummy,end=' ')\n",
    "    print()\n",
    "    dummy+=1"
   ]
  },
  {
   "cell_type": "code",
   "execution_count": 3,
   "id": "1fb9462c",
   "metadata": {},
   "outputs": [
    {
     "name": "stdout",
     "output_type": "stream",
     "text": [
      "5\n",
      "1 2 3 4 5 \n",
      "1 2 3 4 5 \n",
      "1 2 3 4 5 \n",
      "1 2 3 4 5 \n",
      "1 2 3 4 5 \n"
     ]
    }
   ],
   "source": [
    "n = int(input())\n",
    "for row in range(1,n+1):\n",
    "    dummy = 1\n",
    "    for col in range(1,n+1):\n",
    "        print(dummy,end=' ')\n",
    "        dummy+=1\n",
    "    print()"
   ]
  },
  {
   "cell_type": "code",
   "execution_count": 4,
   "id": "469fce7b",
   "metadata": {},
   "outputs": [
    {
     "name": "stdout",
     "output_type": "stream",
     "text": [
      "5\n",
      "1 2 3 4 5 \n",
      "6 7 8 9 10 \n",
      "11 12 13 14 15 \n",
      "16 17 18 19 20 \n",
      "21 22 23 24 25 \n"
     ]
    }
   ],
   "source": [
    "n = int(input())\n",
    "dummy = 1\n",
    "for row in range(1,n+1):\n",
    "    for col in range(1,n+1):\n",
    "        print(dummy,end=' ')\n",
    "        dummy+=1\n",
    "    print()"
   ]
  },
  {
   "cell_type": "code",
   "execution_count": 5,
   "id": "c6d961ba",
   "metadata": {},
   "outputs": [
    {
     "name": "stdout",
     "output_type": "stream",
     "text": [
      "5\n",
      "1 2 3 4 5 \n",
      "2 3 4 5 6 \n",
      "3 4 5 6 7 \n",
      "4 5 6 7 8 \n",
      "5 6 7 8 9 \n"
     ]
    }
   ],
   "source": [
    "n = int(input())\n",
    "for row in range(1,n+1):\n",
    "    dummy = row\n",
    "    for col in range(1,n+1):\n",
    "        print(dummy,end=' ')\n",
    "        dummy+=1\n",
    "    print()"
   ]
  },
  {
   "cell_type": "code",
   "execution_count": 6,
   "id": "fa8b097d",
   "metadata": {},
   "outputs": [
    {
     "name": "stdout",
     "output_type": "stream",
     "text": [
      "5\n",
      "1 2 3 4 5 \n",
      "2 4 6 8 10 \n",
      "3 4 5 6 7 \n",
      "4 6 8 10 12 \n",
      "5 6 7 8 9 \n"
     ]
    }
   ],
   "source": [
    "n = int(input())\n",
    "for row in range(1,n+1):\n",
    "    dummy = row\n",
    "    for col in range(1,n+1):\n",
    "        print(dummy,end=' ')\n",
    "        if row%2 == 0:\n",
    "            dummy+=2\n",
    "\n",
    "        else:\n",
    "            dummy+=1\n",
    "    print()"
   ]
  },
  {
   "cell_type": "code",
   "execution_count": 7,
   "id": "69f4ec58",
   "metadata": {},
   "outputs": [
    {
     "name": "stdout",
     "output_type": "stream",
     "text": [
      "5\n",
      "1 2 3 4 5 \n",
      "6 5 4 3 2 \n",
      "1 2 3 4 5 \n",
      "6 5 4 3 2 \n",
      "1 2 3 4 5 \n"
     ]
    }
   ],
   "source": [
    "n = int(input())\n",
    "dummy = 1\n",
    "for row in range(1,n+1):\n",
    "    for col in range(1,n+1):\n",
    "        print(dummy,end=' ')\n",
    "        if row%2 == 1:\n",
    "            dummy+=1\n",
    "\n",
    "        else:\n",
    "            dummy-=1\n",
    "    print()"
   ]
  },
  {
   "cell_type": "code",
   "execution_count": 1,
   "id": "f169c91d",
   "metadata": {},
   "outputs": [
    {
     "name": "stdout",
     "output_type": "stream",
     "text": [
      "5\n",
      "1 6 11 16 21 \n",
      "2 7 12 17 22 \n",
      "3 8 13 18 23 \n",
      "4 9 14 19 24 \n",
      "5 10 15 20 25 \n"
     ]
    }
   ],
   "source": [
    "n=int(input())\n",
    "for row in range(1,n+1):\n",
    "    dummy=row\n",
    "    for col in range(1,n+1):\n",
    "        print(dummy, end= ' ')\n",
    "        dummy+=5\n",
    "    print()"
   ]
  },
  {
   "cell_type": "code",
   "execution_count": 8,
   "id": "b79fe4e8",
   "metadata": {},
   "outputs": [
    {
     "name": "stdout",
     "output_type": "stream",
     "text": [
      "5\n",
      "1 \n",
      "2 2 \n",
      "3 3 3 \n",
      "4 4 4 4 \n",
      "5 5 5 5 5 \n"
     ]
    }
   ],
   "source": [
    "n = int(input())\n",
    "dummy =1\n",
    "for row in range(1,n+1):\n",
    "    for col in range(1,row+1):\n",
    "        print(dummy,end=' ')\n",
    "    print()\n",
    "    dummy+=1"
   ]
  },
  {
   "cell_type": "code",
   "execution_count": 9,
   "id": "9eaa3c86",
   "metadata": {},
   "outputs": [
    {
     "name": "stdout",
     "output_type": "stream",
     "text": [
      "5\n",
      "1 \n",
      "1 2 \n",
      "1 2 3 \n",
      "1 2 3 4 \n",
      "1 2 3 4 5 \n"
     ]
    }
   ],
   "source": [
    "n = int(input())\n",
    "for row in range(1,n+1):\n",
    "    dummy =1\n",
    "    for col in range(1,row+1):\n",
    "        print(dummy,end=' ')\n",
    "        dummy+=1\n",
    "    print()"
   ]
  },
  {
   "cell_type": "code",
   "execution_count": 10,
   "id": "1073bf00",
   "metadata": {},
   "outputs": [
    {
     "name": "stdout",
     "output_type": "stream",
     "text": [
      "5\n",
      "1 \n",
      "2 3 \n",
      "4 5 6 \n",
      "7 8 9 10 \n",
      "11 12 13 14 15 \n"
     ]
    }
   ],
   "source": [
    "dummy =1\n",
    "n = int(input())\n",
    "for row in range(1,n+1):\n",
    "    for col in range(1,row+1):\n",
    "        print(dummy,end=' ')\n",
    "        dummy+=1\n",
    "    print()"
   ]
  },
  {
   "cell_type": "code",
   "execution_count": 11,
   "id": "6e9bcc66",
   "metadata": {},
   "outputs": [
    {
     "name": "stdout",
     "output_type": "stream",
     "text": [
      "5\n",
      "1 \n",
      "2 3 \n",
      "3 4 5 \n",
      "4 5 6 7 \n",
      "5 6 7 8 9 \n"
     ]
    }
   ],
   "source": [
    "n = int(input())\n",
    "for row in range(1,n+1):\n",
    "    dummy = row\n",
    "    for col in range(1,row+1):\n",
    "        print(dummy,end=' ')\n",
    "        dummy+=1\n",
    "    print()"
   ]
  },
  {
   "cell_type": "code",
   "execution_count": 12,
   "id": "ee670786",
   "metadata": {},
   "outputs": [
    {
     "name": "stdout",
     "output_type": "stream",
     "text": [
      "5\n",
      "1 \n",
      "2 4 \n",
      "3 4 5 \n",
      "4 6 8 10 \n",
      "5 6 7 8 9 \n"
     ]
    }
   ],
   "source": [
    "n = int(input())\n",
    "for row in range(1,n+1):\n",
    "    dummy = row\n",
    "    for col in range(1,row+1):\n",
    "        print(dummy, end=' ')\n",
    "        if row%2==1:\n",
    "            dummy+=1\n",
    "        else:\n",
    "            dummy+=2\n",
    "    print()"
   ]
  },
  {
   "cell_type": "code",
   "execution_count": 13,
   "id": "5bcfe628",
   "metadata": {},
   "outputs": [
    {
     "name": "stdout",
     "output_type": "stream",
     "text": [
      "5\n",
      "1 \n",
      "2 1 \n",
      "0 1 2 \n",
      "3 2 1 0 \n",
      "-1 0 1 2 3 \n"
     ]
    }
   ],
   "source": [
    "n = int(input())\n",
    "dummy = 1\n",
    "for row in range(1,n+1):\n",
    "    for col in range(1,row+1):\n",
    "        print(dummy, end=' ')\n",
    "        if row%2==1:\n",
    "            dummy+=1\n",
    "        else:\n",
    "            dummy-=1\n",
    "    print()"
   ]
  },
  {
   "cell_type": "code",
   "execution_count": 14,
   "id": "d9d98ee5",
   "metadata": {},
   "outputs": [
    {
     "name": "stdout",
     "output_type": "stream",
     "text": [
      "5\n",
      "        1 \n",
      "      2 2 \n",
      "    3 3 3 \n",
      "  4 4 4 4 \n",
      "5 5 5 5 5 \n"
     ]
    }
   ],
   "source": [
    "n = int(input())\n",
    "space = n-1\n",
    "star = 1\n",
    "dummy = 1\n",
    "for row in range(1,n+1):\n",
    "    for sp in range(1,space+1):\n",
    "        print(' ',end=' ')\n",
    "    for st in range(1,star+1):\n",
    "        print(dummy,end=' ')\n",
    "    print()\n",
    "    star+=1\n",
    "    space-=1\n",
    "    dummy+=1"
   ]
  },
  {
   "cell_type": "code",
   "execution_count": 15,
   "id": "28ffb9c1",
   "metadata": {},
   "outputs": [
    {
     "name": "stdout",
     "output_type": "stream",
     "text": [
      "5\n",
      "        1 \n",
      "      1 2 \n",
      "    1 2 3 \n",
      "  1 2 3 4 \n",
      "1 2 3 4 5 \n"
     ]
    }
   ],
   "source": [
    "n = int(input())\n",
    "space = n-1\n",
    "star = 1\n",
    "for row in range(1,n+1):\n",
    "    dummy = 1\n",
    "    for sp in range(1,space+1):\n",
    "        print(' ',end=' ')\n",
    "    for st in range(1,star+1):\n",
    "        print(dummy,end=' ')\n",
    "        dummy+=1\n",
    "    print()\n",
    "    star+=1\n",
    "    space-=1"
   ]
  },
  {
   "cell_type": "code",
   "execution_count": 16,
   "id": "134a6d33",
   "metadata": {},
   "outputs": [
    {
     "name": "stdout",
     "output_type": "stream",
     "text": [
      "5\n",
      "        1 \n",
      "      2 3 \n",
      "    4 5 6 \n",
      "  7 8 9 10 \n",
      "11 12 13 14 15 \n"
     ]
    }
   ],
   "source": [
    "n = int(input())\n",
    "space = n-1\n",
    "star = 1\n",
    "dummy = 1\n",
    "for row in range(1,n+1):\n",
    "    for sp in range(1,space+1):\n",
    "        print(' ',end=' ')\n",
    "    for st in range(1,star+1):\n",
    "        print(dummy,end=' ')\n",
    "        dummy+=1\n",
    "    print()\n",
    "    star+=1\n",
    "    space-=1"
   ]
  },
  {
   "cell_type": "code",
   "execution_count": 17,
   "id": "5d8d4480",
   "metadata": {},
   "outputs": [
    {
     "name": "stdout",
     "output_type": "stream",
     "text": [
      "5\n",
      "        1 \n",
      "      2 3 \n",
      "    3 4 5 \n",
      "  4 5 6 7 \n",
      "5 6 7 8 9 \n"
     ]
    }
   ],
   "source": [
    "n = int(input())\n",
    "space = n-1\n",
    "star = 1\n",
    "\n",
    "for row in range(1,n+1):\n",
    "    dummy = row\n",
    "    for sp in range(1,space+1):\n",
    "        print(' ',end=' ')\n",
    "    for st in range(1,star+1):\n",
    "        print(dummy,end=' ')\n",
    "        dummy+=1\n",
    "    print()\n",
    "    star+=1\n",
    "    space-=1"
   ]
  },
  {
   "cell_type": "code",
   "execution_count": 18,
   "id": "3e28386c",
   "metadata": {},
   "outputs": [
    {
     "name": "stdout",
     "output_type": "stream",
     "text": [
      "5\n",
      "        1 \n",
      "      2 4 \n",
      "    3 4 5 \n",
      "  4 6 8 10 \n",
      "5 6 7 8 9 \n"
     ]
    }
   ],
   "source": [
    "n = int(input())\n",
    "space = n-1\n",
    "star = 1\n",
    "\n",
    "for row in range(1,n+1):\n",
    "    dummy = row\n",
    "    for sp in range(1,space+1):\n",
    "        print(' ',end=' ')\n",
    "    for st in range(1,star+1):\n",
    "        print(dummy,end=' ')\n",
    "        if row%2 == 1:\n",
    "            dummy+=1\n",
    "        else:\n",
    "            dummy+=2\n",
    "    print()\n",
    "    star+=1\n",
    "    space-=1"
   ]
  },
  {
   "cell_type": "code",
   "execution_count": 19,
   "id": "81f77e81",
   "metadata": {},
   "outputs": [
    {
     "name": "stdout",
     "output_type": "stream",
     "text": [
      "5\n",
      "        1 \n",
      "      2 1 \n",
      "    0 1 2 \n",
      "  3 2 1 0 \n",
      "-1 0 1 2 3 \n"
     ]
    }
   ],
   "source": [
    "n = int(input())\n",
    "space = n-1\n",
    "star = 1\n",
    "dummy = 1\n",
    "for row in range(1,n+1):\n",
    "    for sp in range(1,space+1):\n",
    "        print(' ',end=' ')\n",
    "    for st in range(1,star+1):\n",
    "        print(dummy,end=' ')\n",
    "        if row%2 == 1:\n",
    "            dummy+=1\n",
    "        else:\n",
    "            dummy-=1\n",
    "    print()\n",
    "    star+=1\n",
    "    space-=1"
   ]
  },
  {
   "cell_type": "code",
   "execution_count": 4,
   "id": "7d088447",
   "metadata": {},
   "outputs": [
    {
     "name": "stdout",
     "output_type": "stream",
     "text": [
      "5\n",
      "        1 \n",
      "      1 2 3 \n",
      "    1 2 3 2 1 \n",
      "  1 2 3 2 1 0 -1 \n",
      "1 2 3 2 1 0 -1 -2 -3 \n"
     ]
    }
   ],
   "source": [
    "n = int(input())\n",
    "spaces = n-1\n",
    "stars = 1\n",
    "\n",
    "for row in range(1,n+1):\n",
    "    dummy = 1\n",
    "    for sp in range(1,spaces+1):\n",
    "        print(' ', end = ' ')\n",
    "    for st in range(1,stars+1):\n",
    "        print(dummy, end = ' ')\n",
    "        if st>n//2:\n",
    "            dummy-=1\n",
    "        else:\n",
    "            dummy+=1\n",
    "    stars+=2\n",
    "    spaces-=1\n",
    "    print()"
   ]
  },
  {
   "cell_type": "code",
   "execution_count": 27,
   "id": "17efe971",
   "metadata": {},
   "outputs": [
    {
     "name": "stdout",
     "output_type": "stream",
     "text": [
      "5\n",
      "        1 \n",
      "      1 2 1 \n",
      "    1 2 3 2 1 \n",
      "  1 2 3 4 3 2 1 \n",
      "1 2 3 4 5 4 3 2 1 \n"
     ]
    }
   ],
   "source": [
    "n = int(input())\n",
    "spaces = n-1\n",
    "stars = 1\n",
    "\n",
    "for row in range(1,n+1):\n",
    "    dummy = 1\n",
    "    for sp in range(1,spaces+1):\n",
    "        print(' ', end = ' ')\n",
    "    for st in range(1,stars+1):\n",
    "        print(dummy, end=' ')\n",
    "        if st>=row:\n",
    "            dummy-=1\n",
    "        else:\n",
    "            dummy+=1 \n",
    "    stars+=2\n",
    "    spaces-=1\n",
    "    print()"
   ]
  },
  {
   "cell_type": "code",
   "execution_count": 30,
   "id": "8c477c96",
   "metadata": {},
   "outputs": [
    {
     "name": "stdout",
     "output_type": "stream",
     "text": [
      "5\n",
      "        1 \n",
      "      1 2 1 \n",
      "    1 2 3 2 1 \n",
      "  1 2 3 4 3 2 1 \n",
      "1 2 3 4 5 4 3 2 1 \n"
     ]
    }
   ],
   "source": [
    "n = int(input())\n",
    "space = n-1\n",
    "star= 1\n",
    "for row in range(1,n+1):\n",
    "    dummy =1\n",
    "    for sp in range(1,space+1):\n",
    "        print(' ',end=' ')\n",
    "    for st in range(1,star+1):\n",
    "        print(dummy,end=' ')\n",
    "        if st <row:\n",
    "            dummy+=1\n",
    "        else:\n",
    "            dummy-=1\n",
    "    print()\n",
    "    space-=1\n",
    "    star+=2"
   ]
  },
  {
   "cell_type": "code",
   "execution_count": 29,
   "id": "abdb535d",
   "metadata": {},
   "outputs": [
    {
     "name": "stdout",
     "output_type": "stream",
     "text": [
      "5\n",
      "        1 \n",
      "      1 2 3 \n",
      "    1 2 3 4 3 \n",
      "  1 2 3 4 5 4 3 \n",
      "1 2 3 4 5 6 5 4 3 \n"
     ]
    }
   ],
   "source": [
    "n = int(input())\n",
    "spaces = n-1\n",
    "stars = 1\n",
    "\n",
    "for row in range(1,n+1):\n",
    "    dummy = 1\n",
    "    for sp in range(1,spaces+1):\n",
    "        print(' ', end = ' ')\n",
    "    for st in range(1,stars+1):\n",
    "        print(dummy, end=' ')\n",
    "        if st>row:\n",
    "            dummy-=1\n",
    "        else:\n",
    "            dummy+=1 \n",
    "    stars+=2\n",
    "    spaces-=1\n",
    "    print()"
   ]
  },
  {
   "cell_type": "code",
   "execution_count": 1,
   "id": "072ab205",
   "metadata": {},
   "outputs": [
    {
     "name": "stdout",
     "output_type": "stream",
     "text": [
      "5\n",
      "1                 1 \n",
      "1 2             2 1 \n",
      "1 2 3         3 2 1 \n",
      "1 2 3 4     4 3 2 1 \n",
      "1 2 3 4 5 5 4 3 2 1 \n"
     ]
    }
   ],
   "source": [
    "n=int(input())\n",
    "spaces = n\n",
    "for row in range(1,n+1):\n",
    "    dummy=1\n",
    "    stars=row\n",
    "    for st in range(1, row+1):\n",
    "        print(dummy, end=' ')\n",
    "        dummy+=1\n",
    "    for sp in range(1, spaces+n-1):\n",
    "        print(' ', end=' ')\n",
    "    for st in range(1,row+1):\n",
    "        print(stars, end=' ')\n",
    "        stars-=1\n",
    "    spaces-=2\n",
    "    print()"
   ]
  },
  {
   "cell_type": "code",
   "execution_count": 2,
   "id": "93dd9670",
   "metadata": {},
   "outputs": [
    {
     "name": "stdout",
     "output_type": "stream",
     "text": [
      "5\n",
      "1                 1 \n",
      "1 2             2 1 \n",
      "1 2 3         3 2 1 \n",
      "1 2 3 4     4 3 2 1 \n",
      "1 2 3 4 5 5 4 3 2 1 \n"
     ]
    }
   ],
   "source": [
    "n=int(input())\n",
    "spaces = 2*n-2\n",
    "for row in range(1,n+1):\n",
    "    dummy=1\n",
    "    for st in range(1, row+1):\n",
    "        print(dummy, end=' ')\n",
    "        dummy+=1\n",
    "    for sp in range(1, spaces+1):\n",
    "        print(' ', end=' ')\n",
    "    for st in range(1,row+1):\n",
    "        print(row, end=' ')\n",
    "        row-=1\n",
    "    spaces-=2\n",
    "    print()"
   ]
  },
  {
   "cell_type": "code",
   "execution_count": 15,
   "id": "5c68fbd7",
   "metadata": {},
   "outputs": [
    {
     "name": "stdout",
     "output_type": "stream",
     "text": [
      "5\n",
      "\n",
      "5 \n",
      "4 5 \n",
      "3 4 5 \n",
      "2 3 4 5 \n",
      "1 2 3 4 5 \n"
     ]
    }
   ],
   "source": [
    "n=int(input())\n",
    "stars=1\n",
    "print()\n",
    "for row in range(n,0,-1):\n",
    "    dummy=row\n",
    "    for col in range(1,stars+1):    \n",
    "        print(dummy, end = ' ')\n",
    "        dummy+=1\n",
    "    stars+=1\n",
    "    print()"
   ]
  },
  {
   "cell_type": "code",
   "execution_count": 4,
   "id": "4f10068a",
   "metadata": {},
   "outputs": [
    {
     "name": "stdout",
     "output_type": "stream",
     "text": [
      "3\n",
      "        1 \n",
      "    3 3 3 \n",
      "5 5 5 5 5 \n",
      "    3 3 3 \n",
      "        1 \n"
     ]
    }
   ],
   "source": [
    "n=int(input())\n",
    "spaces = 2*n-2\n",
    "stars = 1\n",
    "for row in range(1,2*n):\n",
    "    for sp in range(1,spaces+1):\n",
    "        print(' ', end=' ')\n",
    "    for st in range(1,stars+1):\n",
    "        print(stars , end=' ')    \n",
    "    if row<n:\n",
    "        spaces-=2\n",
    "        stars+=2\n",
    "    else:\n",
    "        spaces+=2\n",
    "        stars-=2\n",
    "    print()"
   ]
  },
  {
   "cell_type": "code",
   "execution_count": 8,
   "id": "e8fe28f1",
   "metadata": {},
   "outputs": [
    {
     "name": "stdout",
     "output_type": "stream",
     "text": [
      "3\n",
      "    3 \n",
      "  3 2 3 \n",
      "3 2 1 2 3 \n",
      "  3 2 3 \n",
      "    3 \n"
     ]
    }
   ],
   "source": [
    "n=int(input())\n",
    "cnt=0\n",
    "spaces=n-1\n",
    "for row in range(1,2*n):\n",
    "    dummy=n\n",
    "    row_int=row\n",
    "    for sp in range(1, spaces+1):\n",
    "        print(' ', end=' ')\n",
    "    if row_int<=n:\n",
    "        row_int=row_int\n",
    "    else:\n",
    "        cnt+=2\n",
    "        row_int=row_int-cnt\n",
    "    stars = row_int*2 - 1\n",
    "    for st in range(1, stars+1) :\n",
    "        print(dummy, end=' ')\n",
    "        if st>stars//2:\n",
    "            dummy+=1\n",
    "        else:\n",
    "            dummy-=1\n",
    "    if row < n:\n",
    "        \n",
    "        spaces-=1\n",
    "        stars+=4\n",
    "        \n",
    "    else: \n",
    "        spaces+=1\n",
    "        stars-=4\n",
    "    print()"
   ]
  },
  {
   "cell_type": "code",
   "execution_count": 7,
   "id": "55b8da21",
   "metadata": {},
   "outputs": [
    {
     "name": "stdout",
     "output_type": "stream",
     "text": [
      "3\n",
      "        3 \n",
      "    3   2   3 \n",
      "3   2   1   2   3 \n",
      "    3   2   3 \n",
      "        3 \n"
     ]
    }
   ],
   "source": [
    "n=int(input())\n",
    "cnt=0\n",
    "spaces=2*n-2\n",
    "for row in range(1,2*n):\n",
    "    dummy=n\n",
    "    row_int=row\n",
    "    for sp in range(1, spaces+1):\n",
    "        print(' ', end=' ')\n",
    "    if row_int<=n:\n",
    "        row_int=row_int\n",
    "    else:\n",
    "        cnt+=2\n",
    "        row_int=row_int-cnt\n",
    "    stars = 4*row_int-3      # row_int*2 + 2*(row_int-2) + 1\n",
    "    for st in range(1, stars+1) :\n",
    "        if st%2==0:\n",
    "            print(' ', end=' ')\n",
    "        else:\n",
    "            print(dummy, end=' ')\n",
    "            if st>stars//2:\n",
    "                dummy+=1\n",
    "            else:\n",
    "                dummy-=1\n",
    "    if row < n:\n",
    "        \n",
    "        spaces-=2\n",
    "        stars+=4\n",
    "        \n",
    "    else: \n",
    "        spaces+=2\n",
    "        stars-=4\n",
    "    print()"
   ]
  },
  {
   "cell_type": "code",
   "execution_count": 2,
   "id": "69ac75f6",
   "metadata": {},
   "outputs": [
    {
     "name": "stdin",
     "output_type": "stream",
     "text": [
      " 3\n"
     ]
    },
    {
     "name": "stdout",
     "output_type": "stream",
     "text": [
      "        3 \n",
      "    3   2   3 \n",
      "3   2   1   2   3 \n",
      "    3   2   3 \n",
      "        3 \n"
     ]
    }
   ],
   "source": [
    "n=int(input())\n",
    "spaces = 2*n-2\n",
    "stars = 1\n",
    "cnt=0\n",
    "for row in range(1,2*n):\n",
    "    dummy=n\n",
    "    for sp in range(1,spaces+1):\n",
    "        print(' ', end=' ')\n",
    "    # if row>n:\n",
    "    #     cnt+=2\n",
    "    #     row_int = row-cnt\n",
    "    # else:\n",
    "    #     row_int=row       \n",
    "    for st in range(1,stars+1):\n",
    "        if st%2==0:\n",
    "            print(' ', end=' ')\n",
    "        else:\n",
    "            print(dummy, end=' ')\n",
    "            if st>=(stars+1)//2:\n",
    "                dummy+=1\n",
    "            else:\n",
    "                dummy-=1\n",
    "            \n",
    "    if row<n:\n",
    "        spaces-=2\n",
    "        stars+=4\n",
    "    else:\n",
    "        spaces+=2\n",
    "        stars-=4\n",
    "    print()"
   ]
  },
  {
   "cell_type": "code",
   "execution_count": 4,
   "id": "5262b89d",
   "metadata": {},
   "outputs": [
    {
     "name": "stdin",
     "output_type": "stream",
     "text": [
      " 3\n"
     ]
    },
    {
     "name": "stdout",
     "output_type": "stream",
     "text": [
      "    3 \n",
      "  3 2 3 \n",
      "3 2 1 2 3 \n",
      "  3 2 3 \n",
      "    3 \n"
     ]
    }
   ],
   "source": [
    "n = int(input())\n",
    "stars = 1\n",
    "spaces = n-1\n",
    "var = 0\n",
    "for i in range((2*n)-1):\n",
    "    dummy = n\n",
    "    for sp in range(spaces):\n",
    "        print(' ', end = ' ')\n",
    "    for st in range(stars):\n",
    "        print(dummy, end = ' ')\n",
    "        if st< var:\n",
    "            dummy -= 1\n",
    "        else:\n",
    "            dummy +=1        \n",
    "    if i<n-1:\n",
    "        stars += 2\n",
    "        spaces -= 1\n",
    "        var+=1\n",
    "    else:\n",
    "        stars -= 2\n",
    "        spaces += 1\n",
    "        var-=1\n",
    "    print()"
   ]
  },
  {
   "cell_type": "code",
   "execution_count": 6,
   "id": "5fae88a6-254c-4fef-96c6-19e0a60656f5",
   "metadata": {},
   "outputs": [
    {
     "name": "stdin",
     "output_type": "stream",
     "text": [
      " 3\n"
     ]
    },
    {
     "name": "stdout",
     "output_type": "stream",
     "text": [
      "    1 \n",
      "  1 2 1 \n",
      "1 2 3 2 1 \n",
      "  1 2 1 \n",
      "    1 \n"
     ]
    }
   ],
   "source": [
    "n = int(input())\n",
    "stars = 1\n",
    "spaces = n-1\n",
    "for row in range(2*n-1):\n",
    "    dummy = 1\n",
    "    for sp in range(spaces):\n",
    "        print(' ', end = ' ')\n",
    "    for st in range(stars):\n",
    "        print(dummy, end = ' ')\n",
    "        if st < stars//2:\n",
    "            dummy+=1\n",
    "        else:\n",
    "            dummy-=1\n",
    "\n",
    "    if row<n-1:\n",
    "        stars +=2\n",
    "        spaces-=1\n",
    "    else:\n",
    "        stars -=2\n",
    "        spaces+=1\n",
    "    print()"
   ]
  },
  {
   "cell_type": "code",
   "execution_count": 7,
   "id": "6b182c19-4af6-4712-a960-bda130047b17",
   "metadata": {},
   "outputs": [
    {
     "name": "stdout",
     "output_type": "stream",
     "text": [
      "      1\n",
      "     1 1\n",
      "    1 2 1\n",
      "   1 3 3 1\n",
      "  1 4 6 4 1\n",
      " 1 5 10 10 5 1\n",
      "1 6 15 20 15 6 1\n"
     ]
    }
   ],
   "source": [
    "def generate_pascals_triangle(n):\n",
    "    triangle = []\n",
    "    for i in range(n):\n",
    "        row = [1] * (i + 1)\n",
    "        for j in range(1, i):\n",
    "            row[j] = triangle[i - 1][j - 1] + triangle[i - 1][j]\n",
    "        triangle.append(row)\n",
    "    for row in triangle:\n",
    "        print(\" \" * (n - len(row)), end=\"\")  \n",
    "        print(\" \".join(map(str, row)))\n",
    "\n",
    "n = 7  \n",
    "generate_pascals_triangle(n)"
   ]
  },
  {
   "cell_type": "code",
   "execution_count": 92,
   "id": "58e711fd-66ad-4d7b-ab31-877c761fbc93",
   "metadata": {},
   "outputs": [
    {
     "name": "stdin",
     "output_type": "stream",
     "text": [
      " 7\n"
     ]
    },
    {
     "name": "stdout",
     "output_type": "stream",
     "text": [
      "              1 \n",
      "            1   1 \n",
      "          1   2   1 \n",
      "        1   3   3   1 \n",
      "      1   4   6   4   1 \n",
      "    1   5   10   10   5   1 \n",
      "  1   6   15   20   15   6   1 \n"
     ]
    }
   ],
   "source": [
    "l = []\n",
    "n = int(input())\n",
    "spaces = n-1\n",
    "for i in range(n):\n",
    "    for sp in range(spaces):\n",
    "        print(' ', end = ' ')\n",
    "    spaces-=1\n",
    "    row = [1]*(i+1)\n",
    "    temp = row\n",
    "    if i>1:\n",
    "        print(' ',1, end = ' ')\n",
    "        for j in range(1,len(temp)):\n",
    "            try:\n",
    "                temp[j] = l[i-1][j]+l[i-1][j-1]\n",
    "                print(' ', temp[j], end = ' ')\n",
    "            except:\n",
    "                pass\n",
    "        print(' ', 1, end = ' ')\n",
    "    else:\n",
    "        for i in range(len(temp)):\n",
    "            print(' ', temp[i], end = ' ')\n",
    "    print()\n",
    "    l.append(temp)"
   ]
  },
  {
   "cell_type": "code",
   "execution_count": null,
   "id": "6a898ab2-57e0-431e-8ab4-e40021ccc44a",
   "metadata": {},
   "outputs": [],
   "source": []
  }
 ],
 "metadata": {
  "kernelspec": {
   "display_name": "Python 3 (ipykernel)",
   "language": "python",
   "name": "python3"
  },
  "language_info": {
   "codemirror_mode": {
    "name": "ipython",
    "version": 3
   },
   "file_extension": ".py",
   "mimetype": "text/x-python",
   "name": "python",
   "nbconvert_exporter": "python",
   "pygments_lexer": "ipython3",
   "version": "3.12.4"
  }
 },
 "nbformat": 4,
 "nbformat_minor": 5
}
