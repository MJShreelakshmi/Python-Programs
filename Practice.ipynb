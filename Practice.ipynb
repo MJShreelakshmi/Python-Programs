{
 "cells": [
  {
   "cell_type": "code",
   "execution_count": 18,
   "id": "48e8cb12",
   "metadata": {},
   "outputs": [
    {
     "name": "stdout",
     "output_type": "stream",
     "text": [
      "False\n"
     ]
    },
    {
     "data": {
      "text/plain": [
       "False"
      ]
     },
     "execution_count": 18,
     "metadata": {},
     "output_type": "execute_result"
    }
   ],
   "source": [
    "# check if 2 words are anagrams or not\n",
    "a = 'asdf'\n",
    "b = 'fdab'\n",
    "def check(str_1,str_2):\n",
    "    return len(set(a).intersection(set(b))) == 0\n",
    "        \n",
    "def check_(str1, str2):\n",
    "    return sorted(str1) ==sorted(str2)\n",
    "       \n",
    "print(check(a, b))\n",
    "check_(a, b)"
   ]
  },
  {
   "cell_type": "code",
   "execution_count": 50,
   "id": "8d9fc31e",
   "metadata": {},
   "outputs": [
    {
     "data": {
      "text/plain": [
       "False"
      ]
     },
     "execution_count": 50,
     "metadata": {},
     "output_type": "execute_result"
    }
   ],
   "source": [
    "def even(n):\n",
    "    return n> 100 and n%2==0\n",
    "even(10)"
   ]
  },
  {
   "cell_type": "code",
   "execution_count": 3,
   "id": "3bbec005",
   "metadata": {},
   "outputs": [],
   "source": [
    "def isleap(y):\n",
    "    if y % 100==0:\n",
    "        if y % 400 != 0:\n",
    "            return True\n",
    "    elif y % 4 == 0:\n",
    "        return True  \n",
    "    else:\n",
    "        return False\n",
    "    \n",
    "def isleap_(y):\n",
    "    return (y%100==0 and y%400==0) or (y%100!=0 and y%4==0)"
   ]
  },
  {
   "cell_type": "code",
   "execution_count": 4,
   "id": "58f21ff8",
   "metadata": {},
   "outputs": [
    {
     "name": "stdout",
     "output_type": "stream",
     "text": [
      "True\n"
     ]
    },
    {
     "data": {
      "text/plain": [
       "True"
      ]
     },
     "execution_count": 4,
     "metadata": {},
     "output_type": "execute_result"
    }
   ],
   "source": [
    "print(isleap(440)) \n",
    "isleap_(440)"
   ]
  },
  {
   "cell_type": "code",
   "execution_count": null,
   "id": "e9822570",
   "metadata": {},
   "outputs": [],
   "source": [
    "a,b,c  -- relationship\n",
    "a>b and a>c:\n",
    "    a\n",
    "b>a and b>c:\n",
    "    b\n",
    "c\n",
    "    "
   ]
  },
  {
   "cell_type": "code",
   "execution_count": 1,
   "id": "5df79a00",
   "metadata": {},
   "outputs": [
    {
     "data": {
      "text/plain": [
       "6"
      ]
     },
     "execution_count": 1,
     "metadata": {},
     "output_type": "execute_result"
    }
   ],
   "source": [
    "#  max usinf if-elif\n",
    "def max_(a,b,c):\n",
    "    if a >= b and a >= c:\n",
    "            return a\n",
    "    elif b >= a and b >= c:\n",
    "        return b\n",
    "    else:\n",
    "        return c\n",
    "max_(5,5,6)"
   ]
  },
  {
   "cell_type": "code",
   "execution_count": 2,
   "id": "e095782a",
   "metadata": {},
   "outputs": [
    {
     "name": "stdout",
     "output_type": "stream",
     "text": [
      "12\n"
     ]
    }
   ],
   "source": [
    "# max using nested-if\n",
    "a,b,c = 10,12,9\n",
    "\n",
    "if a>b:\n",
    "    if a>c:\n",
    "        print(a)\n",
    "    else:\n",
    "        print(c)\n",
    "else:\n",
    "    if b>c:\n",
    "        print(b)\n",
    "    else:\n",
    "        print(c)"
   ]
  },
  {
   "cell_type": "code",
   "execution_count": 5,
   "id": "4559c790",
   "metadata": {},
   "outputs": [
    {
     "name": "stdout",
     "output_type": "stream",
     "text": [
      "137\n"
     ]
    }
   ],
   "source": [
    "a,b,c,d = 8,20,5,137\n",
    "if a>b:\n",
    "    if a>c:\n",
    "        if a>d:\n",
    "            print(a)\n",
    "        else:\n",
    "            print(d)\n",
    "    else:\n",
    "        if c>d:\n",
    "            print(c)\n",
    "        else:\n",
    "            print(d)\n",
    "else:\n",
    "    if b>c:\n",
    "        if b>d:\n",
    "            print(b)\n",
    "        else:\n",
    "            print(d)\n",
    "    else:\n",
    "        if c>d:\n",
    "            print(c)\n",
    "        else:\n",
    "            print(d)"
   ]
  },
  {
   "cell_type": "code",
   "execution_count": 42,
   "id": "dff9842c",
   "metadata": {},
   "outputs": [
    {
     "name": "stdout",
     "output_type": "stream",
     "text": [
      "2 8 \n",
      "10\n"
     ]
    }
   ],
   "source": [
    "s='123nkslhf897'    # sum of even digits ina given string\n",
    "sum_=0\n",
    "for i in s:\n",
    "    if i.isdigit() and int(i)%2==0:\n",
    "        print(i, end=' ')\n",
    "        sum_+=int(i)\n",
    "print()\n",
    "print(sum_)"
   ]
  },
  {
   "cell_type": "code",
   "execution_count": 47,
   "id": "2bf91038",
   "metadata": {},
   "outputs": [
    {
     "name": "stdout",
     "output_type": "stream",
     "text": [
      "ec-  10\n",
      "oc -  20\n"
     ]
    }
   ],
   "source": [
    "# count even and odd digits in the given str\n",
    "s='123nkslhf897'\n",
    "ec = 0\n",
    "oc = 0\n",
    "for i in s:\n",
    "    if i.isdigit():\n",
    "        if int(i)%2==0:\n",
    "            ec+=int(i)\n",
    "        else:\n",
    "            oc+=int(i)\n",
    "print('ec- ', ec)\n",
    "print('oc - ', oc)"
   ]
  },
  {
   "cell_type": "code",
   "execution_count": 77,
   "id": "cc5ec9f9",
   "metadata": {},
   "outputs": [
    {
     "name": "stdout",
     "output_type": "stream",
     "text": [
      "{'s': 2, 'h': 2, 'r': 1, 'e': 3, 'l': 1, 'a': 1, 'k': 1, 'm': 1, 'i': 4}\n",
      "\n",
      "4 i\n"
     ]
    }
   ],
   "source": [
    "# most repeated character without using count\n",
    "s='shreeelakshmiiii'\n",
    "d={}\n",
    "max_=0\n",
    "for i in s:\n",
    "    if i in d.keys():\n",
    "        d[i]+=1\n",
    "        if d[i]>max_:\n",
    "            max_=d[i]\n",
    "            char = i \n",
    "    else:\n",
    "        d[i]=1\n",
    "        if max_==0:\n",
    "            char=i\n",
    "\n",
    "print(d)\n",
    "print()\n",
    "print(max_, char)\n"
   ]
  },
  {
   "cell_type": "code",
   "execution_count": 80,
   "id": "5b773c42",
   "metadata": {},
   "outputs": [
    {
     "name": "stdout",
     "output_type": "stream",
     "text": [
      "e\n"
     ]
    }
   ],
   "source": [
    "s='shreeeeeeeeelakshmi'\n",
    "c=0\n",
    "for i in s:\n",
    "    if s.count(i)>c:\n",
    "        c=s.count(i)\n",
    "        mrc = i\n",
    "print(mrc)"
   ]
  },
  {
   "cell_type": "code",
   "execution_count": 139,
   "id": "8a186f25",
   "metadata": {},
   "outputs": [
    {
     "data": {
      "text/plain": [
       "{'a': 40, 'b': 30, 'c': 500, 'e': 500, 'd': 25}"
      ]
     },
     "execution_count": 139,
     "metadata": {},
     "output_type": "execute_result"
    }
   ],
   "source": [
    "d1 = {'a':20,'b':30,'c':100,'e':500}\n",
    "d2 = {'a':40,'b':20,'c':500,'d':25}\n",
    "#  merge the 2 dicts to get the following o/p\n",
    "#  {'a': 40, 'b': 30, 'c': 500, 'e': 500, 'd': 25}\n",
    "op={}\n",
    "for d in [d1,d2]:\n",
    "    for k in d.keys():\n",
    "        if k not in op:\n",
    "            op[k] = d[k]\n",
    "        elif op[k]< d[k]:\n",
    "             op[k] = d[k]\n",
    "op            "
   ]
  },
  {
   "cell_type": "code",
   "execution_count": 185,
   "id": "7cdabbea",
   "metadata": {},
   "outputs": [
    {
     "name": "stdout",
     "output_type": "stream",
     "text": [
      "2\n"
     ]
    }
   ],
   "source": [
    "# count method logic\n",
    "#  xxxxxxxxxxxxxxxxxxxxxxxxxxxxxxxxxxxxxxxxxxxxxxxxxxxxxxxxx #\n",
    "#  wrong when the sub string is a repeated char and \n",
    "# the string has the char repeated in number other than the multiples of the length of the substring \n",
    "# eg: sub has 2 e and string has 3 e; works well hen string has 4 e again\n",
    "\n",
    "count = 0\n",
    "sub = 'ee'\n",
    "w = len(sub)\n",
    "s = 'shreeelakshmi'\n",
    "for ip in range(len(s)-len(sub) +1):\n",
    "    if s[ip:ip+w] == sub:\n",
    "        count+=1\n",
    "print(count)"
   ]
  },
  {
   "cell_type": "code",
   "execution_count": 206,
   "id": "246d5038",
   "metadata": {},
   "outputs": [
    {
     "data": {
      "text/plain": [
       "[11, 12, 22, 25, 34, 64, 90]"
      ]
     },
     "execution_count": 206,
     "metadata": {},
     "output_type": "execute_result"
    }
   ],
   "source": [
    "#  sort method logic (bubble sort)\n",
    "#  also check quick sort, heap sort, merge sort, selection sort, insertion sort\n",
    "l = [64, 34, 25, 12, 22, 11, 90]\n",
    "for i in range(len(l)):\n",
    "    for ip in range(len(l)-i-1):\n",
    "        if l[ip+1]<l[ip]:\n",
    "            l[ip],l[ip+1]=l[ip+1],l[ip]\n",
    "l"
   ]
  },
  {
   "cell_type": "code",
   "execution_count": 3,
   "id": "d55f216a",
   "metadata": {},
   "outputs": [
    {
     "name": "stdout",
     "output_type": "stream",
     "text": [
      "3\n",
      "1\n",
      "1\n",
      "2\n"
     ]
    },
    {
     "data": {
      "text/plain": [
       "{1, 2}"
      ]
     },
     "execution_count": 3,
     "metadata": {},
     "output_type": "execute_result"
    }
   ],
   "source": [
    "# take n exactly n integers as inputs in a row\n",
    "n, m = map(int, input().split())\n",
    "arr = []\n",
    "for i in range(n):\n",
    "    arr.append(input())\n",
    "A = set()\n",
    "while True:\n",
    "    if len(A)<m:\n",
    "        i = int(input())\n",
    "        A.add(i)\n",
    "    else:\n",
    "        break\n",
    "        \n",
    "B = set()\n",
    "while True:\n",
    "    i = int(input())\n",
    "    if len(B) == m:\n",
    "        break\n",
    "    elif i not in A:\n",
    "        B.add(i)\n",
    "\n",
    "happiness = 0\n",
    "for i in arr:\n",
    "    if i in A:\n",
    "        happiness+=1\n",
    "    elif i in B:\n",
    "        happiness-=1\n",
    "print(happiness)"
   ]
  },
  {
   "cell_type": "code",
   "execution_count": null,
   "id": "a42c0cab",
   "metadata": {
    "scrolled": true
   },
   "outputs": [],
   "source": [
    "3 2\n",
    "1 5 3\n",
    "3 1\n",
    "5 7"
   ]
  },
  {
   "cell_type": "code",
   "execution_count": null,
   "id": "9dbc3549",
   "metadata": {},
   "outputs": [],
   "source": []
  },
  {
   "cell_type": "code",
   "execution_count": null,
   "id": "485bf944",
   "metadata": {},
   "outputs": [],
   "source": []
  },
  {
   "cell_type": "code",
   "execution_count": null,
   "id": "82733658",
   "metadata": {},
   "outputs": [],
   "source": []
  },
  {
   "cell_type": "markdown",
   "id": "958e805f",
   "metadata": {},
   "source": [
    "### CHATGPT "
   ]
  },
  {
   "cell_type": "raw",
   "id": "937f68da",
   "metadata": {},
   "source": [
    "1. Two Sum\n",
    "Problem: Given an array of integers nums and an integer target, return indices of the two numbers such that they add up to target."
   ]
  },
  {
   "cell_type": "code",
   "execution_count": 154,
   "id": "4e41f09f",
   "metadata": {},
   "outputs": [
    {
     "data": {
      "text/plain": [
       "[0, 1]"
      ]
     },
     "execution_count": 154,
     "metadata": {},
     "output_type": "execute_result"
    }
   ],
   "source": [
    "def two_sum(nums, target):\n",
    "    num_dict = {}\n",
    "    for i, num in enumerate(nums):\n",
    "        diff = target - num\n",
    "        if diff in num_dict:\n",
    "            return [num_dict[diff], i]\n",
    "        num_dict[num] = i\n",
    "#         print(num_dict)\n",
    "\n",
    "        \n",
    "two_sum([2, 7, 11, 15], 9)"
   ]
  },
  {
   "cell_type": "raw",
   "id": "f11360bf",
   "metadata": {},
   "source": [
    "2. Reverse a String\n",
    "Problem: Write a function that reverses a string. The input string is given as a list of characters."
   ]
  },
  {
   "cell_type": "code",
   "execution_count": 4,
   "id": "bc3456ac",
   "metadata": {},
   "outputs": [
    {
     "data": {
      "text/plain": [
       "[7, 4, 6, 'i', 'o', 'l', 'l', 'e', 'h']"
      ]
     },
     "execution_count": 4,
     "metadata": {},
     "output_type": "execute_result"
    }
   ],
   "source": [
    "l = ['h', 'e', 'l', 'l', 'o', 'i', 6,4, 7]\n",
    "for i in range(len(l)//2):\n",
    "    l[i], l[-(i+1)] = l[-(i+1)], l[i]\n",
    "l"
   ]
  },
  {
   "cell_type": "code",
   "execution_count": 7,
   "id": "88bcf85b",
   "metadata": {},
   "outputs": [
    {
     "name": "stdout",
     "output_type": "stream",
     "text": [
      "irhs\n"
     ]
    }
   ],
   "source": [
    "# lr = ''\n",
    "# for i in 'shri':\n",
    "#     lr=i+lr\n",
    "# print(lr)"
   ]
  },
  {
   "cell_type": "code",
   "execution_count": 155,
   "id": "01290ac9",
   "metadata": {},
   "outputs": [
    {
     "name": "stdout",
     "output_type": "stream",
     "text": [
      "['o', 'l', 'l', 'e', 'h']\n"
     ]
    }
   ],
   "source": [
    "def reverse_string(s):\n",
    "    left, right = 0, len(s) - 1\n",
    "    while left < right:\n",
    "        s[left], s[right] = s[right], s[left]\n",
    "        left += 1\n",
    "        right -= 1\n",
    "\n",
    "# Example usage:\n",
    "s = ['h', 'e', 'l', 'l', 'o']\n",
    "reverse_string(s)\n",
    "print(s)  # Output: ['o', 'l', 'l', 'e', 'h']\n"
   ]
  },
  {
   "cell_type": "raw",
   "id": "90e3f70c",
   "metadata": {},
   "source": [
    "3. Maximum Subarray\n",
    "Problem: Given an integer array nums, find the contiguous subarray (containing at least one number) which has the largest sum and return its sum."
   ]
  },
  {
   "cell_type": "code",
   "execution_count": 156,
   "id": "f95f5544",
   "metadata": {},
   "outputs": [
    {
     "name": "stdout",
     "output_type": "stream",
     "text": [
      "6\n"
     ]
    }
   ],
   "source": [
    "def max_subarray(nums):\n",
    "    current_sum = max_sum = nums[0]\n",
    "    for num in nums[1:]:\n",
    "        current_sum = max(num, current_sum + num)\n",
    "        max_sum = max(max_sum, current_sum)\n",
    "    return max_sum\n",
    "\n",
    "# Example usage:\n",
    "print(max_subarray([-2, 1, -3, 4, -1, 2, 1, -5, 4]))  # Output: 6\n"
   ]
  },
  {
   "cell_type": "raw",
   "id": "98b1a2af",
   "metadata": {},
   "source": [
    "4. Merge Two Sorted Lists\n",
    "Problem: Merge two sorted linked lists and return it as a new sorted list."
   ]
  },
  {
   "cell_type": "code",
   "execution_count": 157,
   "id": "6107cea4",
   "metadata": {},
   "outputs": [],
   "source": [
    "class ListNode:\n",
    "    def __init__(self, val=0, next=None):\n",
    "        self.val = val\n",
    "        self.next = next\n",
    "\n",
    "def merge_two_lists(l1, l2):\n",
    "    dummy = ListNode()\n",
    "    current = dummy\n",
    "    while l1 and l2:\n",
    "        if l1.val < l2.val:\n",
    "            current.next = l1\n",
    "            l1 = l1.next\n",
    "        else:\n",
    "            current.next = l2\n",
    "            l2 = l2.next\n",
    "        current = current.next\n",
    "    current.next = l1 if l1 else l2\n",
    "    return dummy.next\n",
    "\n",
    "# Example usage:\n",
    "# Input: 1->2->4, 1->3->4\n",
    "# Output: 1->1->2->3->4->4\n"
   ]
  },
  {
   "cell_type": "raw",
   "id": "5fc50ad3",
   "metadata": {},
   "source": [
    "5. Valid Parentheses\n",
    "Problem: Given a string containing just the characters '(', ')', '{', '}', '[', and ']', determine if the input string is valid."
   ]
  },
  {
   "cell_type": "code",
   "execution_count": 158,
   "id": "0c38b484",
   "metadata": {},
   "outputs": [
    {
     "name": "stdout",
     "output_type": "stream",
     "text": [
      "True\n",
      "True\n",
      "False\n"
     ]
    }
   ],
   "source": [
    "def is_valid(s):\n",
    "    stack = []\n",
    "    mapping = {')': '(', '}': '{', ']': '['}\n",
    "    for char in s:\n",
    "        if char in mapping:\n",
    "            top_element = stack.pop() if stack else '#'\n",
    "            if mapping[char] != top_element:\n",
    "                return False\n",
    "        else:\n",
    "            stack.append(char)\n",
    "    return not stack\n",
    "\n",
    "# Example usage:\n",
    "print(is_valid(\"()\"))       # Output: True\n",
    "print(is_valid(\"()[]{}\"))   # Output: True\n",
    "print(is_valid(\"(]\"))       # Output: False\n"
   ]
  },
  {
   "cell_type": "code",
   "execution_count": null,
   "id": "e634cb1b",
   "metadata": {},
   "outputs": [],
   "source": []
  },
  {
   "cell_type": "markdown",
   "id": "c849e778",
   "metadata": {},
   "source": [
    "#### List Manipulation and Slicing: \n",
    "Write a function rotate_list(lst, k) that takes a list lst and an integer k and returns the list rotated to the right by k steps. For example, rotate_list([1, 2, 3, 4, 5], 2) should return [4, 5, 1, 2, 3]."
   ]
  },
  {
   "cell_type": "code",
   "execution_count": 3,
   "id": "61ac13d0",
   "metadata": {},
   "outputs": [
    {
     "ename": "NameError",
     "evalue": "name 's' is not defined",
     "output_type": "error",
     "traceback": [
      "\u001b[1;31m---------------------------------------------------------------------------\u001b[0m",
      "\u001b[1;31mNameError\u001b[0m                                 Traceback (most recent call last)",
      "Cell \u001b[1;32mIn[3], line 8\u001b[0m\n\u001b[0;32m      6\u001b[0m     \u001b[38;5;28mprint\u001b[39m(l)\n\u001b[0;32m      7\u001b[0m l\u001b[38;5;241m=\u001b[39m[\u001b[38;5;241m1\u001b[39m, \u001b[38;5;241m2\u001b[39m, \u001b[38;5;241m3\u001b[39m, \u001b[38;5;241m4\u001b[39m, \u001b[38;5;241m5\u001b[39m]\n\u001b[1;32m----> 8\u001b[0m \u001b[43mr\u001b[49m\u001b[43m(\u001b[49m\u001b[43ml\u001b[49m\u001b[43m,\u001b[49m\u001b[38;5;241;43m2\u001b[39;49m\u001b[43m)\u001b[49m\n",
      "Cell \u001b[1;32mIn[3], line 3\u001b[0m, in \u001b[0;36mr\u001b[1;34m(l, st)\u001b[0m\n\u001b[0;32m      1\u001b[0m \u001b[38;5;28;01mdef\u001b[39;00m \u001b[38;5;21mr\u001b[39m(l,st):\n\u001b[0;32m      2\u001b[0m     st\u001b[38;5;241m=\u001b[39m(st\u001b[38;5;241m+\u001b[39m\u001b[38;5;241m2\u001b[39m)\u001b[38;5;241m%\u001b[39m\u001b[38;5;28mlen\u001b[39m(l)\n\u001b[1;32m----> 3\u001b[0m     \u001b[38;5;28;01mwhile\u001b[39;00m \u001b[43ms\u001b[49m\u001b[38;5;241m<\u001b[39me:       \n\u001b[0;32m      4\u001b[0m         l[s],l[e]\u001b[38;5;241m=\u001b[39ml[e],l[s]\n\u001b[0;32m      6\u001b[0m     \u001b[38;5;28mprint\u001b[39m(l)\n",
      "\u001b[1;31mNameError\u001b[0m: name 's' is not defined"
     ]
    }
   ],
   "source": [
    "def r(l,st,e):\n",
    "    st=(st+2)%len(l)\n",
    "    while s<e:       \n",
    "        l[s],l[e]=l[e],l[s]\n",
    "        \n",
    "    print(l)\n",
    "l=[1, 2, 3, 4, 5]\n",
    "r(l,2)"
   ]
  },
  {
   "cell_type": "code",
   "execution_count": 2,
   "id": "cb5e9117",
   "metadata": {},
   "outputs": [
    {
     "data": {
      "text/plain": [
       "[1, 2, 3, 4, 5]"
      ]
     },
     "execution_count": 2,
     "metadata": {},
     "output_type": "execute_result"
    }
   ],
   "source": [
    "[1, 2, 3, 4, 5]"
   ]
  },
  {
   "cell_type": "code",
   "execution_count": null,
   "id": "3ffdc9e2",
   "metadata": {},
   "outputs": [],
   "source": [
    "1-4,2-5,3-1\n",
    "45123"
   ]
  },
  {
   "cell_type": "code",
   "execution_count": null,
   "id": "5f69c8cc",
   "metadata": {},
   "outputs": [],
   "source": []
  },
  {
   "cell_type": "code",
   "execution_count": null,
   "id": "3ac4c0c1",
   "metadata": {},
   "outputs": [],
   "source": []
  },
  {
   "cell_type": "code",
   "execution_count": null,
   "id": "f79dbd79",
   "metadata": {},
   "outputs": [],
   "source": []
  }
 ],
 "metadata": {
  "kernelspec": {
   "display_name": "Python 3 (ipykernel)",
   "language": "python",
   "name": "python3"
  },
  "language_info": {
   "codemirror_mode": {
    "name": "ipython",
    "version": 3
   },
   "file_extension": ".py",
   "mimetype": "text/x-python",
   "name": "python",
   "nbconvert_exporter": "python",
   "pygments_lexer": "ipython3",
   "version": "3.8.3"
  }
 },
 "nbformat": 4,
 "nbformat_minor": 5
}
