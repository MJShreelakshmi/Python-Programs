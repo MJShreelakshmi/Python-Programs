{
 "cells": [
  {
   "cell_type": "raw",
   "id": "9a24a54f",
   "metadata": {},
   "source": [
    "HackerRank: Validate email address\n",
    "You are given an integer N followed by N email addresses. Your task is to print a list containing only valid email addresses in lexicographical order.\n",
    "\n",
    "\n",
    "Valid email addresses must follow these rules:\n",
    "\n",
    "It must have the username@websitename.extension format type.\n",
    "The username can only contain letters, digits, dashes and underscores [a-z][A-Z][0-9][_-].\n",
    "The website name can only have letters and digits [a-z][A-Z][0-9].\n",
    "The extension can only contain letters [a-z][A-Z].\n",
    "The maximum length of the extension is 3."
   ]
  },
  {
   "cell_type": "code",
   "execution_count": 12,
   "id": "46868050",
   "metadata": {},
   "outputs": [
    {
     "name": "stdout",
     "output_type": "stream",
     "text": [
      "5\n",
      "itsme@gmail\n",
      "@something\n",
      "@something.com\n",
      "sone.com\n",
      "@something.co1\n",
      "[]\n"
     ]
    }
   ],
   "source": [
    "def fun(s):\n",
    "    # return True if s is a valid email, else return False\n",
    "    try:\n",
    "        user_name = s.split('@',1)[0]  \n",
    "        if len(user_name)<=0:\n",
    "            return False\n",
    "        for i in user_name:\n",
    "            if not i.isalnum(): \n",
    "                if i not in '_-':\n",
    "                    return False\n",
    "\n",
    "        website_name = s.split('@',1)[1].split('.')[0]\n",
    "        if len(website_name)<=0:\n",
    "            return False \n",
    "        for i in website_name:\n",
    "            if not i.isalnum():\n",
    "                return False\n",
    "\n",
    "        extension = s.split('@',1)[1].split('.')[1]  \n",
    "        if not extension.isalpha() and len(extension)>3 or len(extension)<0:\n",
    "            return False\n",
    "        return True\n",
    "        extension = s.split('@',1)[1].split('.')[1]  \n",
    "    except IndexError as e:\n",
    "        return False\n",
    "\n",
    "def filter_mail(emails):\n",
    "    return list(filter(fun, emails))\n",
    "\n",
    "if __name__ == '__main__':\n",
    "    n = int(input())\n",
    "    emails = []\n",
    "    for _ in range(n):\n",
    "        emails.append(input())\n",
    "\n",
    "filtered_emails = filter_mail(emails)\n",
    "filtered_emails.sort()\n",
    "print(filtered_emails)"
   ]
  },
  {
   "cell_type": "code",
   "execution_count": 52,
   "id": "5f0f64fa",
   "metadata": {
    "scrolled": true
   },
   "outputs": [
    {
     "data": {
      "text/plain": [
       "[1, 32, 243, 1024, 3125]"
      ]
     },
     "execution_count": 52,
     "metadata": {},
     "output_type": "execute_result"
    }
   ],
   "source": [
    "list(map(pow, (i for i in range(1,6)),[5]*5))"
   ]
  },
  {
   "cell_type": "code",
   "execution_count": 62,
   "id": "851800d9",
   "metadata": {},
   "outputs": [
    {
     "name": "stdout",
     "output_type": "stream",
     "text": [
      "3\n",
      "1 2\n",
      "3 4\n",
      "10 6\n",
      "5 8\n"
     ]
    }
   ],
   "source": [
    "from fractions import Fraction\n",
    "from functools import reduce\n",
    "\n",
    "def product(fracs):\n",
    "    # complete this line with a reduce statement\n",
    "    t = reduce(lambda x,y: x*y, fracs)\n",
    "    return t.numerator, t.denominator\n",
    "\n",
    "if __name__ == '__main__':\n",
    "    fracs = []\n",
    "    for _ in range(int(input())):\n",
    "        fracs.append(Fraction(*map(int, input().split())))\n",
    "    result = product(fracs)\n",
    "    print(*result)"
   ]
  },
  {
   "cell_type": "code",
   "execution_count": 70,
   "id": "9aadbd96",
   "metadata": {},
   "outputs": [
    {
     "name": "stdout",
     "output_type": "stream",
     "text": [
      "shree 48 45 46 50\n"
     ]
    },
    {
     "data": {
      "text/plain": [
       "('shree', ['48', '45', '46', '50'])"
      ]
     },
     "execution_count": 70,
     "metadata": {},
     "output_type": "execute_result"
    }
   ],
   "source": [
    "name, *scores = input().split()\n",
    "name, scores"
   ]
  },
  {
   "cell_type": "code",
   "execution_count": 89,
   "id": "4a3b0092",
   "metadata": {},
   "outputs": [
    {
     "data": {
      "text/plain": [
       "63.0"
      ]
     },
     "execution_count": 89,
     "metadata": {},
     "output_type": "execute_result"
    }
   ],
   "source": [
    "round(reduce(lambda a,b: a+b, map(int, scores))/3, 2)"
   ]
  },
  {
   "cell_type": "code",
   "execution_count": 133,
   "id": "94291a2c",
   "metadata": {},
   "outputs": [
    {
     "name": "stdout",
     "output_type": "stream",
     "text": [
      "2\n",
      "Harsh 25 26.5 28\n",
      "Anurag 26 28 30\n",
      "Harsh\n",
      "26.50\n"
     ]
    }
   ],
   "source": [
    "# Average mark of the given student\n",
    "if __name__ == '__main__':\n",
    "    n = int(input())\n",
    "    student_marks = {}\n",
    "    for _ in range(n):\n",
    "        name, *line = input().split()\n",
    "        scores = list(map(float, line))\n",
    "        student_marks[name] = scores\n",
    "    query_name = input()\n",
    "    print(\"{:.2f}\".format(reduce(lambda a,b: a+b, student_marks[query_name])/3))\n",
    "#     print('%.2f'% result)\n",
    "#     f'{result:.2f}'"
   ]
  },
  {
   "cell_type": "code",
   "execution_count": 161,
   "id": "cff79021",
   "metadata": {},
   "outputs": [
    {
     "name": "stdout",
     "output_type": "stream",
     "text": [
      "1\n",
      "161 182 161 154 176 170 167 171 170 174\n",
      "169.375\n"
     ]
    }
   ],
   "source": [
    "# Average height of the plants considering only distinct values\n",
    "def average(array):\n",
    "    # your code goes here\n",
    "    array = set(array)\n",
    "    total_heights = 0\n",
    "    for i in array:\n",
    "        total_heights+=i\n",
    "    return f'{total_heights/len(array):.3f}'\n",
    "\n",
    "if __name__ == '__main__':\n",
    "    n = int(input())\n",
    "    arr = list(map(int, input().split()))\n",
    "    result = average(arr)\n",
    "    print(result)"
   ]
  },
  {
   "cell_type": "code",
   "execution_count": 162,
   "id": "cc85a4b8",
   "metadata": {},
   "outputs": [
    {
     "name": "stdout",
     "output_type": "stream",
     "text": [
      "1 2 3\n",
      "4 5 6\n"
     ]
    }
   ],
   "source": [
    "# to print the symmetric difference of the 2 sets in ascending order\n",
    "M = input().split(' ')\n",
    "N = input().split(' ')\n",
    "M = set(map(int, M))\n",
    "N = set(map(int, N))\n",
    "result = M.symmetric_difference(N)\n",
    "for i in sorted(result):\n",
    "    print(i, end = ' ')"
   ]
  },
  {
   "cell_type": "code",
   "execution_count": null,
   "id": "ba3c13d2",
   "metadata": {},
   "outputs": [],
   "source": [
    "\n"
   ]
  },
  {
   "cell_type": "code",
   "execution_count": null,
   "id": "13e0df9b",
   "metadata": {},
   "outputs": [],
   "source": []
  }
 ],
 "metadata": {
  "kernelspec": {
   "display_name": "Python 3 (ipykernel)",
   "language": "python",
   "name": "python3"
  },
  "language_info": {
   "codemirror_mode": {
    "name": "ipython",
    "version": 3
   },
   "file_extension": ".py",
   "mimetype": "text/x-python",
   "name": "python",
   "nbconvert_exporter": "python",
   "pygments_lexer": "ipython3",
   "version": "3.8.3"
  }
 },
 "nbformat": 4,
 "nbformat_minor": 5
}
