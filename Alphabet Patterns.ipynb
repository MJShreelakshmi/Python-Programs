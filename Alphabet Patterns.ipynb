{
 "cells": [
  {
   "cell_type": "code",
   "execution_count": 1,
   "id": "518a8f63",
   "metadata": {},
   "outputs": [],
   "source": [
    "# patterns with map\n",
    "# recursion functions"
   ]
  },
  {
   "cell_type": "markdown",
   "id": "cf5bc29b",
   "metadata": {},
   "source": [
    "#### 30-07-24"
   ]
  },
  {
   "cell_type": "markdown",
   "id": "cd769c14",
   "metadata": {},
   "source": [
    "### Alphabet patterns"
   ]
  },
  {
   "cell_type": "code",
   "execution_count": 13,
   "id": "3c6622db",
   "metadata": {},
   "outputs": [
    {
     "name": "stdout",
     "output_type": "stream",
     "text": [
      "5\n",
      "A A A A A \n",
      "B B B B B \n",
      "C C C C C \n",
      "D D D D D \n",
      "E E E E E \n"
     ]
    }
   ],
   "source": [
    "n=int(input())\n",
    "dummy=1\n",
    "for row in range(1,n+1):\n",
    "    for st in range(1, n+1):\n",
    "        print(chr(dummy+64), end=' ')\n",
    "    print()\n",
    "    dummy+=1"
   ]
  },
  {
   "cell_type": "code",
   "execution_count": 14,
   "id": "8d58600f",
   "metadata": {},
   "outputs": [
    {
     "name": "stdout",
     "output_type": "stream",
     "text": [
      "5\n",
      "A B C D E \n",
      "A B C D E \n",
      "A B C D E \n",
      "A B C D E \n",
      "A B C D E \n"
     ]
    }
   ],
   "source": [
    "n=int(input())\n",
    "for row in range(1,n+1):\n",
    "    dummy=1\n",
    "    for st in range(1, n+1):\n",
    "        print(chr(dummy+64), end=' ')\n",
    "        dummy+=1\n",
    "    print()"
   ]
  },
  {
   "cell_type": "code",
   "execution_count": 15,
   "id": "eb218de9",
   "metadata": {},
   "outputs": [
    {
     "name": "stdout",
     "output_type": "stream",
     "text": [
      "5\n",
      "A B C D E \n",
      "F G H I J \n",
      "K L M N O \n",
      "P Q R S T \n",
      "U V W X Y \n"
     ]
    }
   ],
   "source": [
    "n=int(input())\n",
    "dummy=1\n",
    "for row in range(1,n+1):\n",
    "    for st in range(1, n+1):\n",
    "        print(chr(dummy+64), end=' ')\n",
    "        dummy+=1\n",
    "    print()"
   ]
  },
  {
   "cell_type": "code",
   "execution_count": 16,
   "id": "2015d0cc",
   "metadata": {},
   "outputs": [
    {
     "name": "stdout",
     "output_type": "stream",
     "text": [
      "5\n",
      "A B C D E \n",
      "B C D E F \n",
      "C D E F G \n",
      "D E F G H \n",
      "E F G H I \n"
     ]
    }
   ],
   "source": [
    "n=int(input())\n",
    "for row in range(1,n+1):\n",
    "    dummy=row\n",
    "    for st in range(1, n+1):\n",
    "        print(chr(dummy+64), end=' ')\n",
    "        dummy+=1\n",
    "    print()"
   ]
  },
  {
   "cell_type": "code",
   "execution_count": 18,
   "id": "3e21c833",
   "metadata": {},
   "outputs": [
    {
     "name": "stdout",
     "output_type": "stream",
     "text": [
      "5\n",
      "A B C D E \n",
      "B D F H J \n",
      "C D E F G \n",
      "D F H J L \n",
      "E F G H I \n"
     ]
    }
   ],
   "source": [
    "n=int(input())\n",
    "for row in range(1,n+1):\n",
    "    dummy=row\n",
    "    for st in range(1, n+1):\n",
    "        print(chr(dummy+64), end=' ')\n",
    "        if row%2==0:\n",
    "            dummy+=2\n",
    "        else:\n",
    "            dummy+=1\n",
    "    print()"
   ]
  },
  {
   "cell_type": "code",
   "execution_count": 19,
   "id": "d0cb7335",
   "metadata": {},
   "outputs": [
    {
     "name": "stdout",
     "output_type": "stream",
     "text": [
      "5\n",
      "A B C D E \n",
      "F E D C B \n",
      "A B C D E \n",
      "F E D C B \n",
      "A B C D E \n"
     ]
    }
   ],
   "source": [
    "n=int(input())\n",
    "dummy=1\n",
    "for row in range(1,n+1):\n",
    "    for st in range(1, n+1):\n",
    "        print(chr(dummy+64), end=' ')\n",
    "        if row%2==0:\n",
    "            dummy-=1\n",
    "        else:\n",
    "            dummy+=1\n",
    "    print()"
   ]
  },
  {
   "cell_type": "code",
   "execution_count": 39,
   "id": "cac94898",
   "metadata": {},
   "outputs": [
    {
     "name": "stdout",
     "output_type": "stream",
     "text": [
      "5\n",
      "A F K P U \n",
      "B G L Q V \n",
      "C H M R W \n",
      "D I N S X \n",
      "E J O T Y \n"
     ]
    }
   ],
   "source": [
    "n=int(input())\n",
    "for row in range(1,n+1):\n",
    "    dummy=row\n",
    "    for col in range(1,n+1):\n",
    "        print(chr(dummy+64), end=' ')\n",
    "        dummy+=5\n",
    "    print()"
   ]
  },
  {
   "cell_type": "code",
   "execution_count": 1,
   "id": "92748532",
   "metadata": {},
   "outputs": [
    {
     "name": "stdout",
     "output_type": "stream",
     "text": [
      "5\n",
      "A B C D E \n",
      "B A @ ? > \n",
      "C D E F G \n",
      "D C B A @ \n",
      "E F G H I \n"
     ]
    }
   ],
   "source": [
    "n = int(input())\n",
    "\n",
    "for row in range(1,n+1):\n",
    "    dummy = row\n",
    "    for st in range(1,n+1):\n",
    "        print(chr(dummy+64),end=' ')\n",
    "        if row%2==1:\n",
    "            dummy+=1\n",
    "        else:\n",
    "            dummy-=1\n",
    "    print()"
   ]
  },
  {
   "cell_type": "code",
   "execution_count": 22,
   "id": "81df17b3",
   "metadata": {},
   "outputs": [
    {
     "name": "stdout",
     "output_type": "stream",
     "text": [
      "5\n",
      "A \n",
      "B B \n",
      "C C C \n",
      "D D D D \n",
      "E E E E E \n"
     ]
    }
   ],
   "source": [
    "n=int(input())\n",
    "dummy=1\n",
    "for row in range(1,n+1):\n",
    "    for st in range(1, row+1):\n",
    "        print(chr(dummy+64), end=' ')\n",
    "    dummy+=1\n",
    "    print()"
   ]
  },
  {
   "cell_type": "code",
   "execution_count": 1,
   "id": "77678f5c",
   "metadata": {},
   "outputs": [
    {
     "name": "stdout",
     "output_type": "stream",
     "text": [
      "5\n",
      "A \n",
      "A B \n",
      "A B C \n",
      "A B C D \n",
      "A B C D E \n"
     ]
    }
   ],
   "source": [
    "n = int(input())\n",
    "star = 1\n",
    "for row in range(1,n+1):\n",
    "    dummy = 1\n",
    "    for st in range(1,star+1):\n",
    "        print(chr(dummy+64),end=' ')\n",
    "        dummy+=1\n",
    "    print()\n",
    "    star+=1"
   ]
  },
  {
   "cell_type": "code",
   "execution_count": 2,
   "id": "5713f46c",
   "metadata": {},
   "outputs": [
    {
     "name": "stdout",
     "output_type": "stream",
     "text": [
      "5\n",
      "A \n",
      "B C \n",
      "D E F \n",
      "G H I J \n",
      "K L M N O \n"
     ]
    }
   ],
   "source": [
    "n = int(input())\n",
    "star = 1\n",
    "dummy = 1\n",
    "for row in range(1,n+1):\n",
    "    for st in range(1,star+1):\n",
    "        print(chr(dummy+64),end=' ')\n",
    "        dummy+=1\n",
    "    print()\n",
    "    star+=1"
   ]
  },
  {
   "cell_type": "code",
   "execution_count": 3,
   "id": "1eb1a2de",
   "metadata": {
    "scrolled": true
   },
   "outputs": [
    {
     "name": "stdout",
     "output_type": "stream",
     "text": [
      "5\n",
      "A \n",
      "B C \n",
      "C D E \n",
      "D E F G \n",
      "E F G H I \n"
     ]
    }
   ],
   "source": [
    "n = int(input())\n",
    "star = 1\n",
    "\n",
    "for row in range(1,n+1):\n",
    "    dummy = row\n",
    "    for st in range(1,star+1):\n",
    "        print(chr(dummy+64),end=' ')\n",
    "        dummy+=1\n",
    "    print()\n",
    "    star+=1"
   ]
  },
  {
   "cell_type": "code",
   "execution_count": 4,
   "id": "87c40940",
   "metadata": {},
   "outputs": [
    {
     "name": "stdout",
     "output_type": "stream",
     "text": [
      "5\n",
      "A \n",
      "B D \n",
      "C D E \n",
      "D F H J \n",
      "E F G H I \n"
     ]
    }
   ],
   "source": [
    "n = int(input())\n",
    "star = 1\n",
    "\n",
    "for row in range(1,n+1):\n",
    "    dummy = row\n",
    "    for st in range(1,star+1):\n",
    "        print(chr(dummy+64),end=' ')\n",
    "        if row%2==1:\n",
    "            dummy+=1\n",
    "        else:\n",
    "            dummy+=2\n",
    "    print()\n",
    "    star+=1\n"
   ]
  },
  {
   "cell_type": "code",
   "execution_count": 5,
   "id": "85d5c80f",
   "metadata": {},
   "outputs": [
    {
     "name": "stdout",
     "output_type": "stream",
     "text": [
      "5\n",
      "A \n",
      "B A \n",
      "@ A B \n",
      "C B A @ \n",
      "? @ A B C \n"
     ]
    }
   ],
   "source": [
    "n = int(input())\n",
    "star = 1\n",
    "dummy = 1\n",
    "for row in range(1,n+1):\n",
    "    for st in range(1,star+1):\n",
    "        print(chr(dummy+64),end=' ')\n",
    "        if row%2==1:\n",
    "            dummy+=1\n",
    "        else:\n",
    "            dummy-=1\n",
    "    print()\n",
    "    star+=1"
   ]
  },
  {
   "cell_type": "code",
   "execution_count": null,
   "id": "0e3e6df0",
   "metadata": {},
   "outputs": [],
   "source": []
  },
  {
   "cell_type": "code",
   "execution_count": 29,
   "id": "75ed4737",
   "metadata": {},
   "outputs": [
    {
     "name": "stdout",
     "output_type": "stream",
     "text": [
      "5\n",
      "A A A A A \n",
      "  B B B B \n",
      "    C C C \n",
      "      D D \n",
      "        E \n"
     ]
    }
   ],
   "source": [
    "n=int(input())\n",
    "dummy=1\n",
    "stars = n\n",
    "for row in range(1,n+1):\n",
    "    for sp in range(1,row):\n",
    "        print(' ', end=' ')\n",
    "    for st in range(1, stars+1):\n",
    "        print(chr(dummy+64), end=' ')\n",
    "    stars-=1\n",
    "    dummy+=1\n",
    "    print()"
   ]
  },
  {
   "cell_type": "code",
   "execution_count": 36,
   "id": "74835faf",
   "metadata": {},
   "outputs": [
    {
     "name": "stdout",
     "output_type": "stream",
     "text": [
      "5\n",
      "A B C D E \n",
      "  B C D E \n",
      "    C D E \n",
      "      D E \n",
      "        E \n"
     ]
    }
   ],
   "source": [
    "n=int(input())\n",
    "stars=n\n",
    "for row in range(1,n+1):\n",
    "    dummy=row\n",
    "    for sp in range(1,row):\n",
    "        print(' ', end=' ')\n",
    "    for st in range(1,stars+1):\n",
    "        print(chr(dummy+64), end=' ')\n",
    "        dummy+=1\n",
    "    stars-=1\n",
    "    print()\n"
   ]
  },
  {
   "cell_type": "code",
   "execution_count": 6,
   "id": "bb64f170",
   "metadata": {},
   "outputs": [
    {
     "name": "stdout",
     "output_type": "stream",
     "text": [
      "5\n",
      "A B C D E \n",
      "  A B C D \n",
      "    A B C \n",
      "      A B \n",
      "        A \n"
     ]
    }
   ],
   "source": [
    "n = int(input())\n",
    "space = 0\n",
    "star = n\n",
    "for row in range(1,n+1):\n",
    "    dummy = 1\n",
    "    for sp in range(1,space+1):\n",
    "        print(' ',end=' ')\n",
    "    for st in range(1,star+1):\n",
    "        print(chr(dummy+64),end=' ')\n",
    "        dummy+=1\n",
    "    print()\n",
    "\n",
    "    star-=1\n",
    "    space+=1"
   ]
  },
  {
   "cell_type": "code",
   "execution_count": 7,
   "id": "f03d299a",
   "metadata": {},
   "outputs": [
    {
     "name": "stdout",
     "output_type": "stream",
     "text": [
      "5\n",
      "A B C D E \n",
      "  F G H I \n",
      "    J K L \n",
      "      M N \n",
      "        O \n"
     ]
    }
   ],
   "source": [
    "n = int(input())\n",
    "space = 0\n",
    "star = n\n",
    "dummy =1\n",
    "for row in range(1,n+1):\n",
    "    for sp in range(1,space+1):\n",
    "        print(' ',end=' ')\n",
    "    for st in range(1,star+1):\n",
    "        print(chr(dummy+64),end=' ')\n",
    "        dummy+=1\n",
    "    print()\n",
    "    star-=1\n",
    "    space+=1"
   ]
  },
  {
   "cell_type": "code",
   "execution_count": 8,
   "id": "b086b2bd",
   "metadata": {},
   "outputs": [
    {
     "name": "stdout",
     "output_type": "stream",
     "text": [
      "5\n",
      "A B C D E \n",
      "  B D F H \n",
      "    C D E \n",
      "      D F \n",
      "        E \n"
     ]
    }
   ],
   "source": [
    "n = int(input())\n",
    "space = 0\n",
    "star = n\n",
    "\n",
    "for row in range(1,n+1):\n",
    "    dummy = row\n",
    "    for sp in range(1,space+1):\n",
    "        print(' ',end=' ')\n",
    "    for st in range(1,star+1):\n",
    "        print(chr(dummy+64),end=' ')\n",
    "        if row%2==1:\n",
    "            dummy+=1\n",
    "        else:\n",
    "            dummy+=2\n",
    "    print()\n",
    "    star-=1\n",
    "    space+=1"
   ]
  },
  {
   "cell_type": "code",
   "execution_count": 9,
   "id": "00cd52e6",
   "metadata": {},
   "outputs": [
    {
     "name": "stdout",
     "output_type": "stream",
     "text": [
      "5\n",
      "A B C D E \n",
      "  F E D C \n",
      "    B C D \n",
      "      E D \n",
      "        C \n"
     ]
    }
   ],
   "source": [
    "n = int(input())\n",
    "space = 0\n",
    "star = n\n",
    "dummy = 1\n",
    "for row in range(1,n+1):\n",
    "\n",
    "    for sp in range(1,space+1):\n",
    "        print(' ',end=' ')\n",
    "    for st in range(1,star+1):\n",
    "        print(chr(dummy+64),end=' ')\n",
    "        if row%2==1:\n",
    "            dummy+=1\n",
    "        else:\n",
    "            dummy-=1\n",
    "    print()\n",
    "    star-=1\n",
    "    space+=1"
   ]
  },
  {
   "cell_type": "code",
   "execution_count": null,
   "id": "824290f0",
   "metadata": {},
   "outputs": [],
   "source": []
  },
  {
   "cell_type": "code",
   "execution_count": 10,
   "id": "4dc9fe91",
   "metadata": {},
   "outputs": [
    {
     "name": "stdout",
     "output_type": "stream",
     "text": [
      "5\n",
      "        A \n",
      "      B B \n",
      "    C C C \n",
      "  D D D D \n",
      "E E E E E \n"
     ]
    }
   ],
   "source": [
    "n=int(input())\n",
    "dummy=1\n",
    "spaces = n-1\n",
    "for row in range(1,n+1):\n",
    "    for sp in range(1,spaces+1):\n",
    "        print(' ', end=' ')\n",
    "    for st in range(1, row+1):\n",
    "        print(chr(dummy+64), end=' ')\n",
    "    dummy+=1\n",
    "    spaces-=1\n",
    "    print()"
   ]
  },
  {
   "cell_type": "code",
   "execution_count": 11,
   "id": "c692702b",
   "metadata": {},
   "outputs": [
    {
     "name": "stdout",
     "output_type": "stream",
     "text": [
      "5\n",
      "        A \n",
      "      A B \n",
      "    A B C \n",
      "  A B C D \n",
      "A B C D E \n"
     ]
    }
   ],
   "source": [
    "n = int(input())\n",
    "space = n-1\n",
    "star =1\n",
    "for row in range(1,n+1):\n",
    "    dummy =1\n",
    "    for sp in range(1,space+1):\n",
    "        print(' ',end=' ')\n",
    "    for st in range(1,star+1):\n",
    "        print(chr(dummy+64),end=' ')\n",
    "        dummy+=1\n",
    "    print()\n",
    "    star+=1\n",
    "    space-=1"
   ]
  },
  {
   "cell_type": "code",
   "execution_count": 12,
   "id": "e444d118",
   "metadata": {},
   "outputs": [
    {
     "name": "stdout",
     "output_type": "stream",
     "text": [
      "5\n",
      "        A \n",
      "      B C \n",
      "    D E F \n",
      "  G H I J \n",
      "K L M N O \n"
     ]
    }
   ],
   "source": [
    "n = int(input())\n",
    "space = n-1\n",
    "star =1\n",
    "dummy =1\n",
    "for row in range(1,n+1):\n",
    "    for sp in range(1,space+1):\n",
    "        print(' ',end=' ')\n",
    "    for st in range(1,star+1):\n",
    "        print(chr(dummy+64),end=' ')\n",
    "        dummy+=1\n",
    "    print()\n",
    "    star+=1\n",
    "    space-=1"
   ]
  },
  {
   "cell_type": "code",
   "execution_count": 13,
   "id": "1197fcd3",
   "metadata": {},
   "outputs": [
    {
     "name": "stdout",
     "output_type": "stream",
     "text": [
      "5\n",
      "        A \n",
      "      B C \n",
      "    C D E \n",
      "  D E F G \n",
      "E F G H I \n"
     ]
    }
   ],
   "source": [
    "n = int(input())\n",
    "space = n-1\n",
    "star =1\n",
    "for row in range(1,n+1):\n",
    "    dummy = row\n",
    "    for sp in range(1,space+1):\n",
    "        print(' ',end=' ')\n",
    "    for st in range(1,star+1):\n",
    "        print(chr(dummy+64),end=' ')\n",
    "        dummy+=1\n",
    "    print()\n",
    "    star+=1\n",
    "    space-=1"
   ]
  },
  {
   "cell_type": "code",
   "execution_count": 14,
   "id": "a3b995f5",
   "metadata": {},
   "outputs": [
    {
     "name": "stdout",
     "output_type": "stream",
     "text": [
      "5\n",
      "        A \n",
      "      B D \n",
      "    C D E \n",
      "  D F H J \n",
      "E F G H I \n"
     ]
    }
   ],
   "source": [
    "n = int(input())\n",
    "space = n-1\n",
    "star =1\n",
    "for row in range(1,n+1):\n",
    "    dummy = row\n",
    "    for sp in range(1,space+1):\n",
    "        print(' ',end=' ')\n",
    "    for st in range(1,star+1):\n",
    "        print(chr(dummy+64),end=' ')\n",
    "        if row%2==1:\n",
    "            dummy+=1\n",
    "        else:\n",
    "            dummy+=2\n",
    "    print()\n",
    "    star+=1\n",
    "    space-=1"
   ]
  },
  {
   "cell_type": "code",
   "execution_count": 15,
   "id": "fb0076e6",
   "metadata": {},
   "outputs": [
    {
     "name": "stdout",
     "output_type": "stream",
     "text": [
      "5\n",
      "        A \n",
      "      B A \n",
      "    @ A B \n",
      "  C B A @ \n",
      "? @ A B C \n"
     ]
    }
   ],
   "source": [
    "n = int(input())\n",
    "space = n-1\n",
    "star =1\n",
    "dummy =1\n",
    "for row in range(1,n+1):\n",
    "    for sp in range(1,space+1):\n",
    "        print(' ',end=' ')\n",
    "    for st in range(1,star+1):\n",
    "        print(chr(dummy+64),end=' ')\n",
    "        if row%2==1:\n",
    "            dummy+=1\n",
    "        else:\n",
    "            dummy-=1\n",
    "    print()\n",
    "    star+=1\n",
    "    space-=1"
   ]
  },
  {
   "cell_type": "code",
   "execution_count": null,
   "id": "f7f8f4f0",
   "metadata": {},
   "outputs": [],
   "source": []
  },
  {
   "cell_type": "code",
   "execution_count": 16,
   "id": "bf77e721",
   "metadata": {},
   "outputs": [
    {
     "name": "stdout",
     "output_type": "stream",
     "text": [
      "5\n",
      "A A A A A \n",
      "B B B B \n",
      "C C C \n",
      "D D \n",
      "E \n"
     ]
    }
   ],
   "source": [
    "n = int(input())\n",
    "star = n\n",
    "dummy = 1\n",
    "for row in range(1,n+1):\n",
    "    for st in range(1,star+1):\n",
    "        print(chr(dummy+64),end=' ')\n",
    "    print()\n",
    "    dummy+=1\n",
    "    star-=1"
   ]
  },
  {
   "cell_type": "code",
   "execution_count": 17,
   "id": "eff78e17",
   "metadata": {},
   "outputs": [
    {
     "name": "stdout",
     "output_type": "stream",
     "text": [
      "5\n",
      "A B C D E \n",
      "A B C D \n",
      "A B C \n",
      "A B \n",
      "A \n"
     ]
    }
   ],
   "source": [
    "n = int(input())\n",
    "star = n\n",
    "for row in range(1,n+1):\n",
    "    dummy =1\n",
    "    for st in range(1,star+1):\n",
    "        print(chr(dummy+64),end=' ')\n",
    "        dummy+=1\n",
    "    print()\n",
    "    star-=1"
   ]
  },
  {
   "cell_type": "code",
   "execution_count": 18,
   "id": "b03ddca6",
   "metadata": {},
   "outputs": [
    {
     "name": "stdout",
     "output_type": "stream",
     "text": [
      "5\n",
      "A B C D E \n",
      "F G H I \n",
      "J K L \n",
      "M N \n",
      "O \n"
     ]
    }
   ],
   "source": [
    "n = int(input())\n",
    "star = n\n",
    "dummy = 1\n",
    "for row in range(1,n+1):\n",
    "    for st in range(1,star+1):\n",
    "        print(chr(dummy+64),end=' ')\n",
    "        dummy+=1\n",
    "    print()\n",
    "    star-=1"
   ]
  },
  {
   "cell_type": "code",
   "execution_count": 19,
   "id": "da7e6777",
   "metadata": {},
   "outputs": [
    {
     "name": "stdout",
     "output_type": "stream",
     "text": [
      "5\n",
      "A B C D E \n",
      "B C D E \n",
      "C D E \n",
      "D E \n",
      "E \n"
     ]
    }
   ],
   "source": [
    "n = int(input())\n",
    "star = n\n",
    "for row in range(1,n+1):\n",
    "    dummy = row\n",
    "    for st in range(1,star+1):\n",
    "        print(chr(dummy+64),end=' ')\n",
    "        dummy+=1\n",
    "    print()\n",
    "    star-=1"
   ]
  },
  {
   "cell_type": "code",
   "execution_count": 20,
   "id": "115baaae",
   "metadata": {},
   "outputs": [
    {
     "name": "stdout",
     "output_type": "stream",
     "text": [
      "5\n",
      "A B C D E \n",
      "B D F H \n",
      "C D E \n",
      "D F \n",
      "E \n"
     ]
    }
   ],
   "source": [
    "n = int(input())\n",
    "star = n\n",
    "for row in range(1,n+1):\n",
    "    dummy = row\n",
    "    for st in range(1,star+1):\n",
    "        print(chr(dummy+64),end=' ')\n",
    "        if row%2==1:\n",
    "            dummy+=1\n",
    "        else:\n",
    "            dummy+=2\n",
    "    print()\n",
    "    star-=1"
   ]
  },
  {
   "cell_type": "code",
   "execution_count": 21,
   "id": "a3b424c0",
   "metadata": {},
   "outputs": [
    {
     "name": "stdout",
     "output_type": "stream",
     "text": [
      "5\n",
      "A B C D E \n",
      "F E D C \n",
      "B C D \n",
      "E D \n",
      "C \n"
     ]
    }
   ],
   "source": [
    "n = int(input())\n",
    "star = n\n",
    "dummy = 1\n",
    "for row in range(1,n+1):\n",
    "    for st in range(1,star+1):\n",
    "        print(chr(dummy+64),end=' ')\n",
    "        if row%2==1:\n",
    "            dummy+=1\n",
    "        else:\n",
    "            dummy-=1\n",
    "    print()\n",
    "    star-=1"
   ]
  },
  {
   "cell_type": "code",
   "execution_count": null,
   "id": "7935ec8f",
   "metadata": {},
   "outputs": [],
   "source": []
  },
  {
   "cell_type": "markdown",
   "id": "0bd9430c",
   "metadata": {},
   "source": [
    "    Generally we use (suppose dummy=5) and chr(dummy+96) but, Note: chr(97) = a  and chr(65) = A\n",
    "        Unlike the above, take n=3 for 3 alphabets, 5 for 5 alphabets and so on. Write the program accordingly. (Better and Easier) when number of rows and number of alphabets are not same\n",
    "                 OR\n",
    "        Start by decreasing 1 from the ascii value instead of directly using 65 or 97 (bcz in that case, while adding dummy (i.e. n =5 or so, the calculation starts from b and then add 5 (b to f instead of a to e), since a or 65 is already mentioned and it gets excluded and the starting point for clacluation will be b instead of a or A) i.e., dummy(5)+96 = 101(f) gives a to f.\n",
    "        Or to print a to f, ascii of f=101\n",
    "    so dummy(5)+x=101 --> x = 101-5 = 96. Hence chr(dummy+96) \n",
    "\n",
    "        If n=5 and pattern also has 5 alphabets starting from a, then we can use chr(dummy+96). But in the below case, there are only 3 alphabets starting from a. For the remaining 2, empty spaces are printed. Hence, our Ascii values should begin from 99 for c. So dummy(5)+x=99 --> x = 99 - 5 = 94. Hence chr(dummy+94)  "
   ]
  },
  {
   "cell_type": "raw",
   "id": "844188a9",
   "metadata": {},
   "source": [
    "        c\n",
    "    c   b   c             n = 3, r = 5         n = 5, r = 9               n = 7, r = 13\n",
    "c   b   a   b   c         st = 1 3 5 3 1       st = 1 3 5 7 9 7 5 3 1     st =  1  3  5 7 9 11  13 11 9 7  5  3  1\n",
    "    c   b   c             sp = 4 2 0 2 4       sp = 8 6 4 2 0 2 4 6 8     sp = 12 10  8 6  4  2  0  2  4 6 8 10 12  \n",
    "        c   "
   ]
  },
  {
   "cell_type": "code",
   "execution_count": 81,
   "id": "905a820f",
   "metadata": {},
   "outputs": [
    {
     "name": "stdout",
     "output_type": "stream",
     "text": [
      "3\n",
      "        c \n",
      "    c   b   c \n",
      "c   b   a   b   c \n",
      "    c   b   c \n",
      "        c \n"
     ]
    }
   ],
   "source": [
    "# stars taken in between the program without prior initiation\n",
    "n=int(input())\n",
    "cnt=0\n",
    "spaces=2*n-2\n",
    "for row in range(1,2*n):\n",
    "    dummy=n\n",
    "    for sp in range(1, spaces+1):\n",
    "        print(' ', end=' ')\n",
    "    if row<=n:\n",
    "        row_int=row\n",
    "    else:\n",
    "        cnt+=2\n",
    "        row_int=row-cnt\n",
    "    stars = 4*row_int-3       # row_int*2 + 2*(row_int-2) + 1 \n",
    "    for st in range(1, stars+1) :\n",
    "        if st%2==0:\n",
    "            print(' ', end=' ')\n",
    "        else:\n",
    "            print(chr(dummy+96), end=' ')\n",
    "            if st>stars//2:\n",
    "                dummy+=1\n",
    "            else:\n",
    "                dummy-=1\n",
    "    if row < n:        \n",
    "        spaces-=2\n",
    "        stars+=4\n",
    "        \n",
    "    else: \n",
    "        spaces+=2\n",
    "        stars-=4\n",
    "    print()"
   ]
  },
  {
   "cell_type": "code",
   "execution_count": 79,
   "id": "c748efae",
   "metadata": {},
   "outputs": [
    {
     "name": "stdout",
     "output_type": "stream",
     "text": [
      "3\n",
      "        c \n",
      "    c   b   c \n",
      "c   b   a   b   c \n",
      "    c   b   c \n",
      "        c \n"
     ]
    }
   ],
   "source": [
    "# initiating stars with 1 and then increment\n",
    "n=int(input())\n",
    "spaces = 2*n-2\n",
    "stars = 1\n",
    "cnt=0\n",
    "for row in range(1,2*n):\n",
    "    dummy=n\n",
    "    for sp in range(1,spaces+1):\n",
    "        print(' ', end=' ')\n",
    "    if row>n:\n",
    "        cnt+=2\n",
    "        row_int = row-cnt\n",
    "    else:\n",
    "        row_int=row\n",
    "        \n",
    "    for st in range(1,stars+1):\n",
    "        if st%2==0:\n",
    "            print(' ', end=' ')\n",
    "        else:\n",
    "            print(chr(dummy+96), end=' ')\n",
    "            if st>=(stars+1)//2:\n",
    "                dummy+=1\n",
    "            else:\n",
    "                dummy-=1\n",
    "            \n",
    "    if row<n:\n",
    "        spaces-=2\n",
    "        stars+=4\n",
    "    else:\n",
    "        spaces+=2\n",
    "        stars-=4\n",
    "    print()"
   ]
  },
  {
   "cell_type": "raw",
   "id": "7091aabe",
   "metadata": {},
   "source": [
    "s=program\n",
    "            g\n",
    "          gr\n",
    "        gra\n",
    "      gram \n",
    "    gramp\n",
    "  grampr\n",
    "grampro"
   ]
  },
  {
   "cell_type": "code",
   "execution_count": 1,
   "id": "34dc21e4",
   "metadata": {},
   "outputs": [
    {
     "name": "stdout",
     "output_type": "stream",
     "text": [
      "            g \n",
      "          gr \n",
      "        gra \n",
      "      gram \n",
      "    gramp \n",
      "  grampr \n",
      "grampro \n"
     ]
    }
   ],
   "source": [
    "s='program'  \n",
    "n=len(s)\n",
    "spaces = (n-1)\n",
    "for row in range(1, n+1):\n",
    "    for sp in range(1,spaces+1):\n",
    "        print(' ', end=' ')\n",
    "    if row<=len(s)//2:\n",
    "        var = s[len(s)//2:len(s)//2+row]\n",
    "    elif len(s)%2==0  and row-len(s)//2>=0:\n",
    "            var = s[len(s)//2:]+s[:row-len(s)//2]\n",
    "    else:\n",
    "        var = s[len(s)//2:]+s[:row-len(s)//2-1]\n",
    "    print(var, end=' ')\n",
    "    spaces-=1\n",
    "    print()"
   ]
  },
  {
   "cell_type": "code",
   "execution_count": null,
   "id": "1dadbe5b",
   "metadata": {},
   "outputs": [],
   "source": []
  },
  {
   "cell_type": "code",
   "execution_count": null,
   "id": "6db734a4",
   "metadata": {},
   "outputs": [],
   "source": []
  },
  {
   "cell_type": "code",
   "execution_count": null,
   "id": "57a78558",
   "metadata": {},
   "outputs": [],
   "source": []
  },
  {
   "cell_type": "code",
   "execution_count": null,
   "id": "030b580e",
   "metadata": {},
   "outputs": [],
   "source": []
  }
 ],
 "metadata": {
  "kernelspec": {
   "display_name": "Python 3 (ipykernel)",
   "language": "python",
   "name": "python3"
  },
  "language_info": {
   "codemirror_mode": {
    "name": "ipython",
    "version": 3
   },
   "file_extension": ".py",
   "mimetype": "text/x-python",
   "name": "python",
   "nbconvert_exporter": "python",
   "pygments_lexer": "ipython3",
   "version": "3.8.3"
  }
 },
 "nbformat": 4,
 "nbformat_minor": 5
}
