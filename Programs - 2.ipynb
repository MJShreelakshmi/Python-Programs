{
 "cells": [
  {
   "cell_type": "code",
   "execution_count": 1,
   "id": "8115e983",
   "metadata": {},
   "outputs": [
    {
     "data": {
      "text/plain": [
       "{'a': 40, 'b': 30, 'c': 500, 'e': 500, 'd': 25}"
      ]
     },
     "execution_count": 1,
     "metadata": {},
     "output_type": "execute_result"
    }
   ],
   "source": [
    "d1 = {'a':20,'b':30,'c':100,'e':500}\n",
    "d2 = {'a':40,'b':20,'c':500,'d':25}\n",
    "#  merge the 2 dicts to get the following o/p\n",
    "#  {'a': 40, 'b': 30, 'c': 500, 'e': 500, 'd': 25}\n",
    "op={}\n",
    "for d in [d1,d2]:\n",
    "    for k in d.keys():\n",
    "        if k not in op:\n",
    "            op[k] = d[k]\n",
    "        elif op[k]< d[k]:\n",
    "             op[k] = d[k]\n",
    "op            "
   ]
  },
  {
   "cell_type": "code",
   "execution_count": 2,
   "id": "9e906603",
   "metadata": {},
   "outputs": [
    {
     "data": {
      "text/plain": [
       "[11, 12, 22, 25, 34, 64, 90]"
      ]
     },
     "execution_count": 2,
     "metadata": {},
     "output_type": "execute_result"
    }
   ],
   "source": [
    "#  sort method logic (bubble sort)\n",
    "l = [64, 34, 25, 12, 22, 11, 90]\n",
    "\n",
    "for i in range(len(l)):\n",
    "    for ip in range(len(l)-i-1):\n",
    "        if l[ip+1]<l[ip]:\n",
    "            l[ip],l[ip+1]=l[ip+1],l[ip]\n",
    "l"
   ]
  },
  {
   "cell_type": "markdown",
   "id": "dfbb1b46",
   "metadata": {},
   "source": [
    "3) There is an array of n integers. There are also 2 disjoint sets, A and B, each containing m integers. You like all the integers in set A and dislike all the integers in set B. Your initial happiness is 0. For each i integer in the array, if i belongs to A, you add 1 to your happiness. If i belongs to B, you add -1 to your happiness. Otherwise, your happiness does not change. Output your final happiness at the end.\n",
    "\n",
    "    Note: Since A and B are sets, they have no repeated elements. However, the array might contain duplicate elements.\n",
    "\n",
    "    Constraints:\n",
    "    \n",
    "        1<= n <=10**5\n",
    "        1<= m <=10**5\n",
    "        1<= any integer in the input <=10**9\n",
    "\n",
    "    Input Format: \n",
    "            \n",
    "       The first line contains integers n and m separated by a space.         \n",
    "       The second line contains n integers, the elements of the array.         \n",
    "       The third and fourth lines contain m integers, A and B, respectively.\n",
    "\n",
    "    Output Format: Output a single integer, your total happiness.\n",
    "    \n",
    "    Sample Input:\n",
    "\n",
    "        3 2\n",
    "        1 5 3\n",
    "        3 1\n",
    "        5 7\n",
    "    Sample Output: 1"
   ]
  },
  {
   "cell_type": "code",
   "execution_count": 6,
   "id": "f0f9b416",
   "metadata": {
    "scrolled": true
   },
   "outputs": [
    {
     "name": "stdout",
     "output_type": "stream",
     "text": [
      "3 2\n",
      "1 5 3\n",
      "3 1\n",
      "5 7\n",
      "1\n"
     ]
    }
   ],
   "source": [
    "n, m = map(int, input().split())  # take n exactly n integers as inputs in a row\n",
    "arr = []\n",
    "# for i in range(n):\n",
    "#     arr.append(input())\n",
    "arr.extend(map(int, input().split()))\n",
    "    \n",
    "A = set()\n",
    "a = list(map(int, (input().split())))\n",
    "for i in a:\n",
    "    if len(A)<m:\n",
    "        A.add(i)\n",
    "    else:\n",
    "        break\n",
    "        \n",
    "B = set()\n",
    "b = list(map(int, (input().split())))\n",
    "for i in b:\n",
    "    if len(B) == m:\n",
    "        break\n",
    "    elif i not in A:\n",
    "        B.add(i)\n",
    "\n",
    "happiness = 0\n",
    "for i in arr:\n",
    "    if i in A:\n",
    "        happiness+=1\n",
    "    elif i in B:\n",
    "        happiness-=1\n",
    "print(happiness)"
   ]
  },
  {
   "cell_type": "code",
   "execution_count": 29,
   "id": "57f8ac6c",
   "metadata": {},
   "outputs": [
    {
     "name": "stdout",
     "output_type": "stream",
     "text": [
      "5\n",
      "1 2 3 6 5 4 4 2 5 3 6 1 6 5 3 2 4 1 2 5 1 4 3 6 8 4 3 1 5 6 2 \n",
      "8\n"
     ]
    }
   ],
   "source": [
    "# Captain's Room\n",
    "# A list contains room numbers of certain families with k members and a captain. A room is alloted for each family \n",
    "# and a separate room for captain. Find the room number of captain\n",
    "K = int(input())\n",
    "rooms = list(map(int, input().split()))\n",
    "un = set()\n",
    "rep = set()\n",
    "for room in rooms:\n",
    "    if room not in un:\n",
    "        un.add(room)\n",
    "    else:\n",
    "        rep.add(room)\n",
    "captain = un - rep\n",
    "print(captain.pop())"
   ]
  },
  {
   "cell_type": "code",
   "execution_count": 8,
   "id": "16f9a969",
   "metadata": {},
   "outputs": [
    {
     "data": {
      "text/plain": [
       "[0, 1]"
      ]
     },
     "execution_count": 8,
     "metadata": {},
     "output_type": "execute_result"
    }
   ],
   "source": [
    "# Two Sum\n",
    "# Problem: Given an array of integers say nums and an integer target, return indices of the two numbers such that \n",
    "# they add up to target.\n",
    "\n",
    "def two_sum(nums, target):\n",
    "    num_dict = {}\n",
    "    for i, num in enumerate(nums):\n",
    "        diff = target - num\n",
    "        if diff in num_dict:\n",
    "            return [num_dict[diff], i]\n",
    "        num_dict[num] = i\n",
    "#         print(num_dict)\n",
    "two_sum([2, 7, 11, 15], 9)"
   ]
  },
  {
   "cell_type": "markdown",
   "id": "6f54ae18",
   "metadata": {},
   "source": [
    "                    OR"
   ]
  },
  {
   "cell_type": "code",
   "execution_count": 7,
   "id": "1f925163",
   "metadata": {},
   "outputs": [
    {
     "name": "stdout",
     "output_type": "stream",
     "text": [
      "0 1\n"
     ]
    }
   ],
   "source": [
    " for i in range(len(a)):\n",
    "    for j in range(i, len(a)):\n",
    "        if a[i]+a[j] ==9:\n",
    "            print(i,j)   "
   ]
  },
  {
   "cell_type": "code",
   "execution_count": 11,
   "id": "558ca303",
   "metadata": {},
   "outputs": [
    {
     "data": {
      "text/plain": [
       "['i', 'a', 'h', 'o', 'l', 'l', 'e', 'h']"
      ]
     },
     "execution_count": 11,
     "metadata": {},
     "output_type": "execute_result"
    }
   ],
   "source": [
    "# Reverse a String\n",
    "# Problem: Write a function that reverses a string. The input string is given as a list of characters.\n",
    "\n",
    "l = ['h', 'e', 'l', 'l', 'o', 'h', 'a', 'i']\n",
    "for i in range(len(l)//2):\n",
    "    l[i], l[-(i+1)] = l[-(i+1)], l[i]\n",
    "l"
   ]
  },
  {
   "cell_type": "code",
   "execution_count": 14,
   "id": "0b03fb78",
   "metadata": {},
   "outputs": [
    {
     "name": "stdout",
     "output_type": "stream",
     "text": [
      "['i', 'a', 'h', 'o', 'l', 'l', 'e', 'h']\n"
     ]
    }
   ],
   "source": [
    "l = ['h', 'e', 'l', 'l', 'o', 'h', 'a', 'i']\n",
    "r = []\n",
    "for i in l:\n",
    "    r=[i]+r\n",
    "print(r)"
   ]
  },
  {
   "cell_type": "code",
   "execution_count": 16,
   "id": "700d3206",
   "metadata": {},
   "outputs": [
    {
     "data": {
      "text/plain": [
       "['o', 'l', 'l', 'e', 'h']"
      ]
     },
     "execution_count": 16,
     "metadata": {},
     "output_type": "execute_result"
    }
   ],
   "source": [
    "def reverse_string(s):\n",
    "    left, right = 0, len(s) - 1\n",
    "    while left < right:\n",
    "        s[left], s[right] = s[right], s[left]\n",
    "        left += 1\n",
    "        right -= 1\n",
    "    return s\n",
    "s = ['h', 'e', 'l', 'l', 'o']\n",
    "reverse_string(s)  "
   ]
  },
  {
   "cell_type": "code",
   "execution_count": 5,
   "id": "5c197126",
   "metadata": {},
   "outputs": [
    {
     "name": "stdout",
     "output_type": "stream",
     "text": [
      "-1\n"
     ]
    }
   ],
   "source": [
    "# Maximum Subarray\n",
    "# Problem: Given an integer array say nums, find the contiguous subarray (containing at least one number) \n",
    "# which has the largest sum and return its sum.\n",
    "\n",
    "def max_subarray(nums):\n",
    "    current_sum = max_sum = nums[0]\n",
    "    for num in nums[1:]:\n",
    "        current_sum = max(num, current_sum + num)\n",
    "        max_sum = max(max_sum, current_sum)\n",
    "    return max_sum\n",
    "\n",
    "print(max_subarray([-2, -3,  -1,  -5, -6, -8]))  "
   ]
  },
  {
   "cell_type": "code",
   "execution_count": 25,
   "id": "96302014",
   "metadata": {
    "scrolled": false
   },
   "outputs": [
    {
     "name": "stdout",
     "output_type": "stream",
     "text": [
      "-1\n"
     ]
    }
   ],
   "source": [
    "arr = [-2, -3,  -1,  -5, -6, -8]\n",
    "res = arr[0]\n",
    "for i in range(len(arr)):\n",
    "    sum_ = 0\n",
    "    for j in range(i, len(arr)):\n",
    "        sum_+= arr[j]\n",
    "        if sum_ > res:\n",
    "            res =  sum_\n",
    "print(res)"
   ]
  },
  {
   "cell_type": "code",
   "execution_count": 24,
   "id": "0492666a",
   "metadata": {
    "scrolled": true
   },
   "outputs": [
    {
     "name": "stdout",
     "output_type": "stream",
     "text": [
      "-1 res\n"
     ]
    }
   ],
   "source": [
    "arr = [-2, -3,  -1,  -5, -6, -8]\n",
    "res = arr[0]\n",
    "for i in range(len(arr)):\n",
    "    for j in range(i, len(arr)):\n",
    "        var = max(arr[i], sum(arr[i:j+1]))\n",
    "        res = max(var, res)\n",
    "print(res)"
   ]
  },
  {
   "cell_type": "code",
   "execution_count": 58,
   "id": "a82a08bc",
   "metadata": {
    "scrolled": true
   },
   "outputs": [
    {
     "name": "stdout",
     "output_type": "stream",
     "text": [
      "True\n",
      "True\n",
      "False\n"
     ]
    }
   ],
   "source": [
    "# 5. Valid Parentheses\n",
    "# Problem: Given a string containing just the characters '(', ')', '{', '}', '[', and ']',  \n",
    "# determine if the input string is valid.\n",
    "\n",
    "def is_valid(s):\n",
    "    stack = []\n",
    "    mapping = {')': '(', '}': '{', ']': '['}\n",
    "    for char in s:\n",
    "        if char in mapping:\n",
    "            top_element = stack.pop() if stack else '#'\n",
    "            if mapping[char] != top_element:\n",
    "                return False\n",
    "        else:\n",
    "            stack.append(char)\n",
    "    return not stack\n",
    "\n",
    "print(is_valid(\"()\"))       \n",
    "print(is_valid(\"()[]{}\"))   \n",
    "print(is_valid(\"(]\"))       \n"
   ]
  },
  {
   "cell_type": "code",
   "execution_count": 59,
   "id": "ed320125",
   "metadata": {},
   "outputs": [],
   "source": [
    "# List Manipulation and Slicing: \n",
    "# Write a function rotate_list(lst, k) that takes a list lst and an integer k and returns the list rotated to the \n",
    "# right by k steps. For example, rotate_list([1, 2, 3, 4, 5], 2) should return [4, 5, 1, 2, 3].\n",
    "\n",
    "def rotate(l, k):\n",
    "    k = k % len(l)\n",
    "    return lst[-k:] + lst[:-k]"
   ]
  },
  {
   "cell_type": "code",
   "execution_count": 80,
   "id": "8b9cf4cf",
   "metadata": {},
   "outputs": [
    {
     "data": {
      "text/plain": [
       "[30, 40, 50, 10, 20]"
      ]
     },
     "execution_count": 80,
     "metadata": {},
     "output_type": "execute_result"
    }
   ],
   "source": [
    "def rotate(l, k):\n",
    "    l1 = l[k:]\n",
    "    l1.extend(l[:k])\n",
    "    return l1\n",
    "rotate([10, 20, 30, 40, 50],2)"
   ]
  },
  {
   "cell_type": "code",
   "execution_count": 82,
   "id": "178d4a61",
   "metadata": {},
   "outputs": [
    {
     "data": {
      "text/plain": [
       "[30, 40, 50, 10, 20]"
      ]
     },
     "execution_count": 82,
     "metadata": {},
     "output_type": "execute_result"
    }
   ],
   "source": [
    "def rotate(l, k):\n",
    "    l1 = l[k:]\n",
    "    for i in range(len(l[:k])):\n",
    "        l1+= [l[i]]\n",
    "    return l1\n",
    "rotate([10, 20, 30, 40, 50],2)"
   ]
  },
  {
   "cell_type": "raw",
   "id": "c17c6e39",
   "metadata": {},
   "source": [
    "# Merge Two Sorted Lists\n",
    "Problem: Merge two sorted linked lists and return it as a new sorted list.\n",
    "\n",
    "class ListNode:\n",
    "    def __init__(self, val=0, next=None):\n",
    "        self.val = val\n",
    "        self.next = next\n",
    "\n",
    "def merge_two_lists(l1, l2):\n",
    "    dummy = ListNode()\n",
    "    current = dummy\n",
    "    while l1 and l2:\n",
    "        if l1.val < l2.val:\n",
    "            current.next = l1\n",
    "            l1 = l1.next\n",
    "        else:\n",
    "            current.next = l2\n",
    "            l2 = l2.next\n",
    "        current = current.next\n",
    "    current.next = l1 if l1 else l2\n",
    "    return dummy.next\n",
    "\n",
    "# Example usage:\n",
    "# Input: 1->2->4, 1->3->4\n",
    "# Output: 1->1->2->3->4->4"
   ]
  }
 ],
 "metadata": {
  "kernelspec": {
   "display_name": "Python 3 (ipykernel)",
   "language": "python",
   "name": "python3"
  },
  "language_info": {
   "codemirror_mode": {
    "name": "ipython",
    "version": 3
   },
   "file_extension": ".py",
   "mimetype": "text/x-python",
   "name": "python",
   "nbconvert_exporter": "python",
   "pygments_lexer": "ipython3",
   "version": "3.8.3"
  }
 },
 "nbformat": 4,
 "nbformat_minor": 5
}
