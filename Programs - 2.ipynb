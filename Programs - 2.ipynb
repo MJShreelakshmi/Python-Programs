{
 "cells": [
  {
   "cell_type": "code",
   "execution_count": 1,
   "id": "8115e983",
   "metadata": {},
   "outputs": [
    {
     "data": {
      "text/plain": [
       "{'a': 40, 'b': 30, 'c': 500, 'e': 500, 'd': 25}"
      ]
     },
     "execution_count": 1,
     "metadata": {},
     "output_type": "execute_result"
    }
   ],
   "source": [
    "d1 = {'a':20,'b':30,'c':100,'e':500}\n",
    "d2 = {'a':40,'b':20,'c':500,'d':25}\n",
    "#  merge the 2 dicts to get the following o/p\n",
    "#  {'a': 40, 'b': 30, 'c': 500, 'e': 500, 'd': 25}\n",
    "op={}\n",
    "for d in [d1,d2]:\n",
    "    for k in d.keys():\n",
    "        if k not in op:\n",
    "            op[k] = d[k]\n",
    "        elif op[k]< d[k]:\n",
    "             op[k] = d[k]\n",
    "op            "
   ]
  },
  {
   "cell_type": "code",
   "execution_count": 2,
   "id": "9e906603",
   "metadata": {},
   "outputs": [
    {
     "data": {
      "text/plain": [
       "[11, 12, 22, 25, 34, 64, 90]"
      ]
     },
     "execution_count": 2,
     "metadata": {},
     "output_type": "execute_result"
    }
   ],
   "source": [
    "#  sort method logic (bubble sort)\n",
    "l = [64, 34, 25, 12, 22, 11, 90]\n",
    "\n",
    "for i in range(len(l)):\n",
    "    for ip in range(len(l)-i-1):\n",
    "        if l[ip+1]<l[ip]:\n",
    "            l[ip],l[ip+1]=l[ip+1],l[ip]\n",
    "l"
   ]
  },
  {
   "cell_type": "markdown",
   "id": "dfbb1b46",
   "metadata": {},
   "source": [
    "3) There is an array of n integers. There are also 2 disjoint sets, A and B, each containing m integers. You like all the integers in set A and dislike all the integers in set B. Your initial happiness is 0. For each i integer in the array, if i belongs to A, you add 1 to your happiness. If i belongs to B, you add -1 to your happiness. Otherwise, your happiness does not change. Output your final happiness at the end.\n",
    "\n",
    "    Note: Since A and B are sets, they have no repeated elements. However, the array might contain duplicate elements.\n",
    "\n",
    "    Constraints:\n",
    "    \n",
    "        1<= n <=10**5\n",
    "        1<= m <=10**5\n",
    "        1<= any integer in the input <=10**9\n",
    "\n",
    "    Input Format: \n",
    "            \n",
    "       The first line contains integers n and m separated by a space.         \n",
    "       The second line contains n integers, the elements of the array.         \n",
    "       The third and fourth lines contain m integers, A and B, respectively.\n",
    "\n",
    "    Output Format: Output a single integer, your total happiness.\n",
    "    \n",
    "    Sample Input:\n",
    "\n",
    "        3 2\n",
    "        1 5 3\n",
    "        3 1\n",
    "        5 7\n",
    "    Sample Output: 1"
   ]
  },
  {
   "cell_type": "code",
   "execution_count": 6,
   "id": "f0f9b416",
   "metadata": {
    "scrolled": true
   },
   "outputs": [
    {
     "name": "stdout",
     "output_type": "stream",
     "text": [
      "3 2\n",
      "1 5 3\n",
      "3 1\n",
      "5 7\n",
      "1\n"
     ]
    }
   ],
   "source": [
    "n, m = map(int, input().split())  # take n exactly n integers as inputs in a row\n",
    "arr = []\n",
    "# for i in range(n):\n",
    "#     arr.append(input())\n",
    "arr.extend(map(int, input().split()))\n",
    "    \n",
    "A = set()\n",
    "a = list(map(int, (input().split())))\n",
    "for i in a:\n",
    "    if len(A)<m:\n",
    "        A.add(i)\n",
    "    else:\n",
    "        break\n",
    "        \n",
    "B = set()\n",
    "b = list(map(int, (input().split())))\n",
    "for i in b:\n",
    "    if len(B) == m:\n",
    "        break\n",
    "    elif i not in A:\n",
    "        B.add(i)\n",
    "\n",
    "happiness = 0\n",
    "for i in arr:\n",
    "    if i in A:\n",
    "        happiness+=1\n",
    "    elif i in B:\n",
    "        happiness-=1\n",
    "print(happiness)"
   ]
  },
  {
   "cell_type": "code",
   "execution_count": 29,
   "id": "57f8ac6c",
   "metadata": {},
   "outputs": [
    {
     "name": "stdout",
     "output_type": "stream",
     "text": [
      "5\n",
      "1 2 3 6 5 4 4 2 5 3 6 1 6 5 3 2 4 1 2 5 1 4 3 6 8 4 3 1 5 6 2 \n",
      "8\n"
     ]
    }
   ],
   "source": [
    "# Captain's Room\n",
    "# A list contains room numbers of certain families with k members and a captain. A room is alloted for each family \n",
    "# and a separate room for captain. Find the room number of captain\n",
    "K = int(input())\n",
    "rooms = list(map(int, input().split()))\n",
    "un = set()\n",
    "rep = set()\n",
    "for room in rooms:\n",
    "    if room not in un:\n",
    "        un.add(room)\n",
    "    else:\n",
    "        rep.add(room)\n",
    "captain = un - rep\n",
    "print(captain.pop())"
   ]
  },
  {
   "cell_type": "code",
   "execution_count": 1,
   "id": "16f9a969",
   "metadata": {},
   "outputs": [
    {
     "data": {
      "text/plain": [
       "[0, 1]"
      ]
     },
     "execution_count": 1,
     "metadata": {},
     "output_type": "execute_result"
    }
   ],
   "source": [
    "# Two Sum\n",
    "# Problem: Given an array of integers nums and an integer target, return indices of the two numbers such that \n",
    "# they add up to target.\n",
    "\n",
    "def two_sum(nums, target):\n",
    "    num_dict = {}\n",
    "    for i, num in enumerate(nums):\n",
    "        diff = target - num\n",
    "        if diff in num_dict:\n",
    "            return [num_dict[diff], i]\n",
    "        num_dict[num] = i\n",
    "#         print(num_dict)\n",
    "two_sum([2, 7, 11, 15], 9)"
   ]
  },
  {
   "cell_type": "code",
   "execution_count": null,
   "id": "558ca303",
   "metadata": {},
   "outputs": [],
   "source": [
    "2. Reverse a String\n",
    "Problem: Write a function that reverses a string. The input string is given as a list of characters.\n",
    "\n",
    "l = ['h', 'e', 'l', 'l', 'o', 'i', 6,4, 7]\n",
    "for i in range(len(l)//2):\n",
    "    l[i], l[-(i+1)] = l[-(i+1)], l[i]\n",
    "l\n",
    "\n",
    "# lr = ''\n",
    "# for i in 'shri':\n",
    "#     lr=i+lr\n",
    "# print(lr)"
   ]
  },
  {
   "cell_type": "code",
   "execution_count": null,
   "id": "700d3206",
   "metadata": {},
   "outputs": [],
   "source": [
    "def reverse_string(s):\n",
    "    left, right = 0, len(s) - 1\n",
    "    while left < right:\n",
    "        s[left], s[right] = s[right], s[left]\n",
    "        left += 1\n",
    "        right -= 1\n",
    "\n",
    "# Example usage:\n",
    "s = ['h', 'e', 'l', 'l', 'o']\n",
    "reverse_string(s)\n",
    "print(s)  # Output: ['o', 'l', 'l', 'e', 'h']"
   ]
  },
  {
   "cell_type": "code",
   "execution_count": null,
   "id": "5c197126",
   "metadata": {},
   "outputs": [],
   "source": [
    "3. Maximum Subarray\n",
    "Problem: Given an integer array nums, find the contiguous subarray (containing at least one number) which has the largest sum and return its sum.\n",
    "\n",
    "def max_subarray(nums):\n",
    "    current_sum = max_sum = nums[0]\n",
    "    for num in nums[1:]:\n",
    "        current_sum = max(num, current_sum + num)\n",
    "        max_sum = max(max_sum, current_sum)\n",
    "    return max_sum\n",
    "\n",
    "# Example usage:\n",
    "print(max_subarray([-2, 1, -3, 4, -1, 2, 1, -5, 4]))  # Output: 6\n"
   ]
  },
  {
   "cell_type": "code",
   "execution_count": null,
   "id": "c9739f58",
   "metadata": {},
   "outputs": [],
   "source": [
    "4. Merge Two Sorted Lists\n",
    "Problem: Merge two sorted linked lists and return it as a new sorted list.\n",
    "\n",
    "class ListNode:\n",
    "    def __init__(self, val=0, next=None):\n",
    "        self.val = val\n",
    "        self.next = next\n",
    "\n",
    "def merge_two_lists(l1, l2):\n",
    "    dummy = ListNode()\n",
    "    current = dummy\n",
    "    while l1 and l2:\n",
    "        if l1.val < l2.val:\n",
    "            current.next = l1\n",
    "            l1 = l1.next\n",
    "        else:\n",
    "            current.next = l2\n",
    "            l2 = l2.next\n",
    "        current = current.next\n",
    "    current.next = l1 if l1 else l2\n",
    "    return dummy.next\n",
    "\n",
    "# Example usage:\n",
    "# Input: 1->2->4, 1->3->4\n",
    "# Output: 1->1->2->3->4->4"
   ]
  },
  {
   "cell_type": "code",
   "execution_count": null,
   "id": "a82a08bc",
   "metadata": {},
   "outputs": [],
   "source": [
    "5. Valid Parentheses\n",
    "Problem: Given a string containing just the characters '(', ')', '{', '}', '[', and ']', determine if the input string is valid.\n",
    "\n",
    "def is_valid(s):\n",
    "    stack = []\n",
    "    mapping = {')': '(', '}': '{', ']': '['}\n",
    "    for char in s:\n",
    "        if char in mapping:\n",
    "            top_element = stack.pop() if stack else '#'\n",
    "            if mapping[char] != top_element:\n",
    "                return False\n",
    "        else:\n",
    "            stack.append(char)\n",
    "    return not stack\n",
    "\n",
    "# Example usage:\n",
    "print(is_valid(\"()\"))       # Output: True\n",
    "print(is_valid(\"()[]{}\"))   # Output: True\n",
    "print(is_valid(\"(]\"))       # Output: False\n"
   ]
  },
  {
   "cell_type": "code",
   "execution_count": null,
   "id": "ed320125",
   "metadata": {},
   "outputs": [],
   "source": [
    "#### List Manipulation and Slicing: \n",
    "Write a function rotate_list(lst, k) that takes a list lst and an integer k and returns the list rotated to the right by k steps. For example, rotate_list([1, 2, 3, 4, 5], 2) should return [4, 5, 1, 2, 3].\n",
    "\n",
    "def r(l,st,e):\n",
    "    st=(st+2)%len(l)\n",
    "    while s<e:       \n",
    "        l[s],l[e]=l[e],l[s]\n",
    "        \n",
    "    print(l)"
   ]
  },
  {
   "cell_type": "code",
   "execution_count": null,
   "id": "8b9cf4cf",
   "metadata": {},
   "outputs": [],
   "source": [
    "l=[1, 2, 3, 4, 5]\n",
    "r(l,2)"
   ]
  }
 ],
 "metadata": {
  "kernelspec": {
   "display_name": "Python 3 (ipykernel)",
   "language": "python",
   "name": "python3"
  },
  "language_info": {
   "codemirror_mode": {
    "name": "ipython",
    "version": 3
   },
   "file_extension": ".py",
   "mimetype": "text/x-python",
   "name": "python",
   "nbconvert_exporter": "python",
   "pygments_lexer": "ipython3",
   "version": "3.8.3"
  }
 },
 "nbformat": 4,
 "nbformat_minor": 5
}
